{
 "cells": [
  {
   "cell_type": "markdown",
   "id": "elder-value",
   "metadata": {},
   "source": [
    "## matplotlib + 한글 (Ubuntu Linux)\n",
    "\n",
    "- https://financedata.github.io/posts/matplotlib-hangul-for-ubuntu-linux.html"
   ]
  },
  {
   "cell_type": "code",
   "execution_count": 1,
   "id": "patient-chapter",
   "metadata": {},
   "outputs": [],
   "source": [
    "%matplotlib inline"
   ]
  },
  {
   "cell_type": "markdown",
   "id": "acknowledged-anger",
   "metadata": {},
   "source": [
    "### 기본정보 확인"
   ]
  },
  {
   "cell_type": "code",
   "execution_count": 2,
   "id": "approximate-warren",
   "metadata": {},
   "outputs": [
    {
     "data": {
      "text/plain": [
       "'Linux-5.8.0-44-generic-x86_64-with-glibc2.29'"
      ]
     },
     "execution_count": 2,
     "metadata": {},
     "output_type": "execute_result"
    }
   ],
   "source": [
    "# 실행중인 운영체제 확인\n",
    "\n",
    "import platform\n",
    "\n",
    "platform.platform()"
   ]
  },
  {
   "cell_type": "code",
   "execution_count": 3,
   "id": "subtle-confusion",
   "metadata": {},
   "outputs": [
    {
     "data": {
      "text/plain": [
       "sys.version_info(major=3, minor=8, micro=5, releaselevel='final', serial=0)"
      ]
     },
     "execution_count": 3,
     "metadata": {},
     "output_type": "execute_result"
    }
   ],
   "source": [
    "# 파이썬 버젼 확인\n",
    "\n",
    "import sys\n",
    "\n",
    "sys.version_info"
   ]
  },
  {
   "cell_type": "code",
   "execution_count": 4,
   "id": "settled-joyce",
   "metadata": {},
   "outputs": [
    {
     "name": "stdout",
     "output_type": "stream",
     "text": [
      "버   젼 : 3.3.4\n",
      "설치위치 : /home/mspark/.local/lib/python3.8/site-packages/matplotlib/__init__.py\n",
      "설   정 : /home/mspark/.config/matplotlib\n",
      "캐   시 : /home/mspark/.cache/matplotlib\n"
     ]
    }
   ],
   "source": [
    "# matplotlib 중요 설치 정보\n",
    "\n",
    "import matplotlib\n",
    "\n",
    "print(\"버   젼 :\", matplotlib.__version__)\n",
    "print(\"설치위치 :\", matplotlib.__file__)\n",
    "print(\"설   정 :\", matplotlib.get_configdir())\n",
    "print(\"캐   시 :\", matplotlib.get_cachedir())\n"
   ]
  },
  {
   "cell_type": "markdown",
   "id": "joined-traffic",
   "metadata": {},
   "source": [
    "### 한글이 포함된 간단한 챠트"
   ]
  },
  {
   "cell_type": "code",
   "execution_count": 5,
   "id": "fitting-somalia",
   "metadata": {},
   "outputs": [
    {
     "data": {
      "text/plain": [
       "array([ 31,  37,  69,   7, -25, -97, -16, -14,  37,  64,  20,  93, 191,\n",
       "       240, 152, 114, 117, 188, 160, 104,  46, 134,  71, 135, 202, 289,\n",
       "       245, 268, 291, 388, 343, 244, 151, 176, 164, 150, 123, 113, 143,\n",
       "        98, 188, 198, 175, 207, 137,  47, -20,  74,  14,  82])"
      ]
     },
     "execution_count": 5,
     "metadata": {},
     "output_type": "execute_result"
    }
   ],
   "source": [
    "# 랜덤 데이타 생성\n",
    "\n",
    "import numpy as np\n",
    "\n",
    "data = np.random.randint(-100, 100, 50).cumsum()\n",
    "data"
   ]
  },
  {
   "cell_type": "code",
   "execution_count": 6,
   "id": "finite-maintenance",
   "metadata": {},
   "outputs": [
    {
     "name": "stderr",
     "output_type": "stream",
     "text": [
      "/home/mspark/.local/lib/python3.8/site-packages/matplotlib/backends/backend_agg.py:238: RuntimeWarning: Glyph 44032 missing from current font.\n",
      "  font.set_text(s, 0.0, flags=flags)\n",
      "/home/mspark/.local/lib/python3.8/site-packages/matplotlib/backends/backend_agg.py:238: RuntimeWarning: Glyph 44201 missing from current font.\n",
      "  font.set_text(s, 0.0, flags=flags)\n",
      "/home/mspark/.local/lib/python3.8/site-packages/matplotlib/backends/backend_agg.py:238: RuntimeWarning: Glyph 52628 missing from current font.\n",
      "  font.set_text(s, 0.0, flags=flags)\n",
      "/home/mspark/.local/lib/python3.8/site-packages/matplotlib/backends/backend_agg.py:238: RuntimeWarning: Glyph 51060 missing from current font.\n",
      "  font.set_text(s, 0.0, flags=flags)\n",
      "/home/mspark/.local/lib/python3.8/site-packages/matplotlib/backends/backend_agg.py:201: RuntimeWarning: Glyph 44032 missing from current font.\n",
      "  font.set_text(s, 0, flags=flags)\n",
      "/home/mspark/.local/lib/python3.8/site-packages/matplotlib/backends/backend_agg.py:201: RuntimeWarning: Glyph 44201 missing from current font.\n",
      "  font.set_text(s, 0, flags=flags)\n",
      "/home/mspark/.local/lib/python3.8/site-packages/matplotlib/backends/backend_agg.py:201: RuntimeWarning: Glyph 52628 missing from current font.\n",
      "  font.set_text(s, 0, flags=flags)\n",
      "/home/mspark/.local/lib/python3.8/site-packages/matplotlib/backends/backend_agg.py:201: RuntimeWarning: Glyph 51060 missing from current font.\n",
      "  font.set_text(s, 0, flags=flags)\n"
     ]
    },
    {
     "data": {
      "image/png": "[encoded data removed]",
      "text/plain": [
       "<Figure size 432x288 with 1 Axes>"
      ]
     },
     "metadata": {
      "needs_background": "light"
     },
     "output_type": "display_data"
    }
   ],
   "source": [
    "import matplotlib.pyplot as plt\n",
    "\n",
    "plt.plot(range(50), data, 'r')\n",
    "plt.title('가격추이')\n",
    "plt.ylabel('가격')\n",
    "plt.show()"
   ]
  },
  {
   "cell_type": "markdown",
   "id": "fossil-monte",
   "metadata": {},
   "source": [
    "- 한글이 제대로 표시되지않는다.\n",
    "한글폰트가 설치되어 있지 않거나, 한글폰트를 사용하도록 설정되어 있지 않은 경우이다."
   ]
  },
  {
   "cell_type": "markdown",
   "id": "identified-mumbai",
   "metadata": {},
   "source": [
    "- 한글 폰트 설치한다.\n",
    "```bash\n",
    "mspark@j:~$ sudo apt update\n",
    "mspark@j:~$ sudo apt install fonts-nanum*\n",
    "```\n",
    "\n",
    "- 다운로드 후에 캐쉬 삭제\n",
    "```bash\n",
    "mspark@j:~$ sudo fc-cache -fv\n",
    "```\n",
    "\n"
   ]
  },
  {
   "cell_type": "code",
   "execution_count": 7,
   "id": "grave-nigeria",
   "metadata": {},
   "outputs": [
    {
     "name": "stdout",
     "output_type": "stream",
     "text": [
      "drwxr-xr-x 2 root   root   4096  3월 13 21:24 nanum\r\n"
     ]
    }
   ],
   "source": [
    "# 한글 폰트 설치한다.\n",
    "\n",
    "!ls -l /usr/share/fonts/truetype | grep nanum"
   ]
  },
  {
   "cell_type": "code",
   "execution_count": 8,
   "id": "fundamental-gasoline",
   "metadata": {},
   "outputs": [
    {
     "name": "stdout",
     "output_type": "stream",
     "text": [
      "NanumBarunGothicBold.ttf\tNanumMyeongjoBold.ttf\r\n",
      "NanumBarunGothicLight.ttf\tNanumMyeongjoEcoBold.ttf\r\n",
      "NanumBarunGothic.ttf\t\tNanumMyeongjoEcoExtraBold.ttf\r\n",
      "NanumBarunGothicUltraLight.ttf\tNanumMyeongjoEco.ttf\r\n",
      "NanumBarunpenB.ttf\t\tNanumMyeongjoExtraBold.ttf\r\n",
      "NanumBarunpenR.ttf\t\tNanumMyeongjo.ttf\r\n",
      "NanumBrush.ttf\t\t\tNanumPen.ttf\r\n",
      "NanumGothicBold.ttf\t\tNanumSquareB.ttf\r\n",
      "NanumGothicCoding-Bold.ttf\tNanumSquareEB.ttf\r\n",
      "NanumGothicCoding.ttf\t\tNanumSquareL.ttf\r\n",
      "NanumGothicEcoBold.ttf\t\tNanumSquareRoundB.ttf\r\n",
      "NanumGothicEcoExtraBold.ttf\tNanumSquareRoundEB.ttf\r\n",
      "NanumGothicEco.ttf\t\tNanumSquareRoundL.ttf\r\n",
      "NanumGothicExtraBold.ttf\tNanumSquareRoundR.ttf\r\n",
      "NanumGothicLight.ttf\t\tNanumSquareR.ttf\r\n",
      "NanumGothic.ttf\r\n"
     ]
    }
   ],
   "source": [
    "# 한글 폰트 설치한다.\n",
    "\n",
    "!ls /usr/share/fonts/truetype/nanum"
   ]
  },
  {
   "cell_type": "code",
   "execution_count": 9,
   "id": "bronze-discharge",
   "metadata": {},
   "outputs": [
    {
     "name": "stdout",
     "output_type": "stream",
     "text": [
      "설정파일 위치 : /home/mspark/.local/lib/python3.8/site-packages/matplotlib/mpl-data/matplotlibrc\n"
     ]
    }
   ],
   "source": [
    "# Matplotlib 설정 파일 위치\n",
    "\n",
    "import matplotlib\n",
    "\n",
    "print(\"설정파일 위치 :\", matplotlib.matplotlib_fname())\n",
    "\n",
    "# 설정파일 위치 : /home/mspark/.local/lib/python3.8/site-packages/matplotlib/mpl-data/matplotlibrc\n",
    "#\n",
    "# matplotlibrc 는 파일명이고,\n",
    "# /home/mspark/.local/lib/python3.8/site-packages/matplotlib/mpl-data/ 까지가 경로이다.\n",
    "# 그 아래에 font/ttf 디렉토리가 있고, 여기에 앞서 조회한 파일을 복사한다."
   ]
  },
  {
   "cell_type": "markdown",
   "id": "buried-jacket",
   "metadata": {},
   "source": [
    "- matplotlib 폰트에 나눔글씨체를 복사\n",
    "```bash\n",
    "mspark@j:~$ sudo cp /usr/share/fonts/truetype/nanum/*.ttf ~/.local/lib/python3.8/site-packages/matplotlib/mpl-data/fonts/ttf/\n",
    "```\n",
    "- 홈디렉토리에 matplotlib 캐쉬 삭제\n",
    "```bash\n",
    "mspark@j:~$ rm ~/.config/matplotlib/ -rf\n",
    "```"
   ]
  },
  {
   "cell_type": "markdown",
   "id": "instructional-superior",
   "metadata": {},
   "source": [
    "### 사용 가능한 ttf 폰트 목록\n",
    "\n",
    "사용가능한 ttf(true type font)폰트 목록은 다음 리스트로 간단하게 얻을 수 있다\n",
    "\n",
    "- matplotlib.font_manager.fontManager.ttflist "
   ]
  },
  {
   "cell_type": "code",
   "execution_count": 10,
   "id": "talented-seminar",
   "metadata": {},
   "outputs": [
    {
     "data": {
      "text/plain": [
       "['/home/mspark/.local/lib/python3.8/site-packages/matplotlib/mpl-data/fonts/ttf/DejaVuSansMono-Oblique.ttf',\n",
       " '/home/mspark/.local/lib/python3.8/site-packages/matplotlib/mpl-data/fonts/ttf/NanumMyeongjoEcoBold.ttf',\n",
       " '/home/mspark/.local/lib/python3.8/site-packages/matplotlib/mpl-data/fonts/ttf/cmsy10.ttf',\n",
       " '/home/mspark/.local/lib/python3.8/site-packages/matplotlib/mpl-data/fonts/ttf/STIXGeneralBolIta.ttf',\n",
       " '/home/mspark/.local/lib/python3.8/site-packages/matplotlib/mpl-data/fonts/ttf/DejaVuSerif-BoldItalic.ttf',\n",
       " '/home/mspark/.local/lib/python3.8/site-packages/matplotlib/mpl-data/fonts/ttf/NanumGothicLight.ttf',\n",
       " '/home/mspark/.local/lib/python3.8/site-packages/matplotlib/mpl-data/fonts/ttf/NanumSquareEB.ttf',\n",
       " '/home/mspark/.local/lib/python3.8/site-packages/matplotlib/mpl-data/fonts/ttf/STIXNonUniBolIta.ttf',\n",
       " '/home/mspark/.local/lib/python3.8/site-packages/matplotlib/mpl-data/fonts/ttf/STIXGeneralBol.ttf',\n",
       " '/home/mspark/.local/lib/python3.8/site-packages/matplotlib/mpl-data/fonts/ttf/DejaVuSerifDisplay.ttf',\n",
       " '/home/mspark/.local/lib/python3.8/site-packages/matplotlib/mpl-data/fonts/ttf/DejaVuSerif-Italic.ttf',\n",
       " '/home/mspark/.local/lib/python3.8/site-packages/matplotlib/mpl-data/fonts/ttf/DejaVuSans.ttf',\n",
       " '/home/mspark/.local/lib/python3.8/site-packages/matplotlib/mpl-data/fonts/ttf/NanumGothicEco.ttf',\n",
       " '/home/mspark/.local/lib/python3.8/site-packages/matplotlib/mpl-data/fonts/ttf/cmmi10.ttf',\n",
       " '/home/mspark/.local/lib/python3.8/site-packages/matplotlib/mpl-data/fonts/ttf/NanumSquareB.ttf',\n",
       " '/home/mspark/.local/lib/python3.8/site-packages/matplotlib/mpl-data/fonts/ttf/cmex10.ttf',\n",
       " '/home/mspark/.local/lib/python3.8/site-packages/matplotlib/mpl-data/fonts/ttf/STIXSizOneSymBol.ttf',\n",
       " '/home/mspark/.local/lib/python3.8/site-packages/matplotlib/mpl-data/fonts/ttf/STIXSizFourSymBol.ttf',\n",
       " '/home/mspark/.local/lib/python3.8/site-packages/matplotlib/mpl-data/fonts/ttf/NanumSquareRoundR.ttf',\n",
       " '/home/mspark/.local/lib/python3.8/site-packages/matplotlib/mpl-data/fonts/ttf/cmss10.ttf',\n",
       " '/home/mspark/.local/lib/python3.8/site-packages/matplotlib/mpl-data/fonts/ttf/STIXSizTwoSymBol.ttf',\n",
       " '/home/mspark/.local/lib/python3.8/site-packages/matplotlib/mpl-data/fonts/ttf/NanumBarunGothicBold.ttf',\n",
       " '/home/mspark/.local/lib/python3.8/site-packages/matplotlib/mpl-data/fonts/ttf/NanumGothicBold.ttf',\n",
       " '/home/mspark/.local/lib/python3.8/site-packages/matplotlib/mpl-data/fonts/ttf/NanumMyeongjoEco.ttf',\n",
       " '/home/mspark/.local/lib/python3.8/site-packages/matplotlib/mpl-data/fonts/ttf/NanumBarunGothicLight.ttf',\n",
       " '/home/mspark/.local/lib/python3.8/site-packages/matplotlib/mpl-data/fonts/ttf/STIXSizFourSymReg.ttf',\n",
       " '/home/mspark/.local/lib/python3.8/site-packages/matplotlib/mpl-data/fonts/ttf/NanumGothicEcoExtraBold.ttf',\n",
       " '/home/mspark/.local/lib/python3.8/site-packages/matplotlib/mpl-data/fonts/ttf/STIXSizThreeSymReg.ttf',\n",
       " '/home/mspark/.local/lib/python3.8/site-packages/matplotlib/mpl-data/fonts/ttf/NanumPen.ttf',\n",
       " '/home/mspark/.local/lib/python3.8/site-packages/matplotlib/mpl-data/fonts/ttf/NanumMyeongjoExtraBold.ttf',\n",
       " '/home/mspark/.local/lib/python3.8/site-packages/matplotlib/mpl-data/fonts/ttf/NanumGothicCoding.ttf',\n",
       " '/home/mspark/.local/lib/python3.8/site-packages/matplotlib/mpl-data/fonts/ttf/STIXNonUniBol.ttf',\n",
       " '/home/mspark/.local/lib/python3.8/site-packages/matplotlib/mpl-data/fonts/ttf/NanumGothicEcoBold.ttf',\n",
       " '/home/mspark/.local/lib/python3.8/site-packages/matplotlib/mpl-data/fonts/ttf/DejaVuSansMono.ttf',\n",
       " '/home/mspark/.local/lib/python3.8/site-packages/matplotlib/mpl-data/fonts/ttf/NanumMyeongjo.ttf',\n",
       " '/home/mspark/.local/lib/python3.8/site-packages/matplotlib/mpl-data/fonts/ttf/STIXNonUni.ttf',\n",
       " '/home/mspark/.local/lib/python3.8/site-packages/matplotlib/mpl-data/fonts/ttf/DejaVuSansDisplay.ttf',\n",
       " '/home/mspark/.local/lib/python3.8/site-packages/matplotlib/mpl-data/fonts/ttf/STIXNonUniIta.ttf',\n",
       " '/home/mspark/.local/lib/python3.8/site-packages/matplotlib/mpl-data/fonts/ttf/STIXSizTwoSymReg.ttf',\n",
       " '/home/mspark/.local/lib/python3.8/site-packages/matplotlib/mpl-data/fonts/ttf/NanumBarunpenR.ttf',\n",
       " '/home/mspark/.local/lib/python3.8/site-packages/matplotlib/mpl-data/fonts/ttf/STIXSizOneSymReg.ttf',\n",
       " '/home/mspark/.local/lib/python3.8/site-packages/matplotlib/mpl-data/fonts/ttf/NanumGothicCoding-Bold.ttf',\n",
       " '/home/mspark/.local/lib/python3.8/site-packages/matplotlib/mpl-data/fonts/ttf/cmr10.ttf',\n",
       " '/home/mspark/.local/lib/python3.8/site-packages/matplotlib/mpl-data/fonts/ttf/DejaVuSansMono-Bold.ttf',\n",
       " '/home/mspark/.local/lib/python3.8/site-packages/matplotlib/mpl-data/fonts/ttf/STIXGeneral.ttf',\n",
       " '/home/mspark/.local/lib/python3.8/site-packages/matplotlib/mpl-data/fonts/ttf/NanumSquareR.ttf',\n",
       " '/home/mspark/.local/lib/python3.8/site-packages/matplotlib/mpl-data/fonts/ttf/NanumGothicExtraBold.ttf',\n",
       " '/home/mspark/.local/lib/python3.8/site-packages/matplotlib/mpl-data/fonts/ttf/NanumBarunpenB.ttf',\n",
       " '/home/mspark/.local/lib/python3.8/site-packages/matplotlib/mpl-data/fonts/ttf/DejaVuSerif.ttf',\n",
       " '/home/mspark/.local/lib/python3.8/site-packages/matplotlib/mpl-data/fonts/ttf/DejaVuSerif-Bold.ttf',\n",
       " '/home/mspark/.local/lib/python3.8/site-packages/matplotlib/mpl-data/fonts/ttf/NanumBarunGothic.ttf',\n",
       " '/home/mspark/.local/lib/python3.8/site-packages/matplotlib/mpl-data/fonts/ttf/STIXGeneralItalic.ttf',\n",
       " '/home/mspark/.local/lib/python3.8/site-packages/matplotlib/mpl-data/fonts/ttf/NanumSquareRoundEB.ttf',\n",
       " '/home/mspark/.local/lib/python3.8/site-packages/matplotlib/mpl-data/fonts/ttf/DejaVuSans-Oblique.ttf',\n",
       " '/home/mspark/.local/lib/python3.8/site-packages/matplotlib/mpl-data/fonts/ttf/NanumSquareRoundL.ttf',\n",
       " '/home/mspark/.local/lib/python3.8/site-packages/matplotlib/mpl-data/fonts/ttf/NanumBarunGothicUltraLight.ttf',\n",
       " '/home/mspark/.local/lib/python3.8/site-packages/matplotlib/mpl-data/fonts/ttf/cmtt10.ttf',\n",
       " '/home/mspark/.local/lib/python3.8/site-packages/matplotlib/mpl-data/fonts/ttf/NanumSquareL.ttf',\n",
       " '/home/mspark/.local/lib/python3.8/site-packages/matplotlib/mpl-data/fonts/ttf/cmb10.ttf',\n",
       " '/home/mspark/.local/lib/python3.8/site-packages/matplotlib/mpl-data/fonts/ttf/DejaVuSansMono-BoldOblique.ttf',\n",
       " '/home/mspark/.local/lib/python3.8/site-packages/matplotlib/mpl-data/fonts/ttf/NanumMyeongjoBold.ttf',\n",
       " '/home/mspark/.local/lib/python3.8/site-packages/matplotlib/mpl-data/fonts/ttf/NanumSquareRoundB.ttf',\n",
       " '/home/mspark/.local/lib/python3.8/site-packages/matplotlib/mpl-data/fonts/ttf/STIXSizFiveSymReg.ttf',\n",
       " '/home/mspark/.local/lib/python3.8/site-packages/matplotlib/mpl-data/fonts/ttf/DejaVuSans-BoldOblique.ttf',\n",
       " '/home/mspark/.local/lib/python3.8/site-packages/matplotlib/mpl-data/fonts/ttf/NanumMyeongjoEcoExtraBold.ttf',\n",
       " '/home/mspark/.local/lib/python3.8/site-packages/matplotlib/mpl-data/fonts/ttf/DejaVuSans-Bold.ttf',\n",
       " '/home/mspark/.local/lib/python3.8/site-packages/matplotlib/mpl-data/fonts/ttf/STIXSizThreeSymBol.ttf',\n",
       " '/home/mspark/.local/lib/python3.8/site-packages/matplotlib/mpl-data/fonts/ttf/NanumGothic.ttf',\n",
       " '/home/mspark/.local/lib/python3.8/site-packages/matplotlib/mpl-data/fonts/ttf/NanumBrush.ttf',\n",
       " '/usr/share/fonts/opentype/urw-base35/NimbusSans-BoldItalic.otf',\n",
       " '/usr/share/fonts/truetype/samyak-fonts/Samyak-Gujarati.ttf',\n",
       " '/usr/share/fonts/truetype/tlwg/Laksaman-Italic.ttf',\n",
       " '/usr/share/fonts/truetype/kacst/KacstLetter.ttf',\n",
       " '/usr/share/fonts/truetype/tlwg/Loma.ttf',\n",
       " '/usr/share/fonts/truetype/tlwg/Kinnari-BoldOblique.ttf',\n",
       " '/usr/share/fonts/truetype/tlwg/Waree-Oblique.ttf',\n",
       " '/usr/share/fonts/truetype/liberation/LiberationSans-BoldItalic.ttf',\n",
       " '/usr/share/fonts/truetype/fonts-beng-extra/MuktiNarrowBold.ttf',\n",
       " '/usr/share/fonts/truetype/lohit-tamil-classical/Lohit-Tamil-Classical.ttf',\n",
       " '/usr/share/fonts/truetype/nanum/NanumGothicEcoBold.ttf',\n",
       " '/usr/share/fonts/truetype/ubuntu/UbuntuMono-RI.ttf',\n",
       " '/usr/share/fonts/truetype/fonts-gujr-extra/padmaa-Bold.1.1.ttf',\n",
       " '/usr/share/fonts/truetype/liberation/LiberationSans-Italic.ttf',\n",
       " '/usr/share/fonts/opentype/malayalam/Manjari-Regular.otf',\n",
       " '/usr/share/fonts/truetype/freefont/FreeSerifBold.ttf',\n",
       " '/usr/share/fonts/truetype/nanum/NanumBrush.ttf',\n",
       " '/usr/share/fonts/truetype/fonts-yrsa-rasa/Yrsa-Medium.ttf',\n",
       " '/usr/share/fonts/truetype/nanum/NanumMyeongjoEcoBold.ttf',\n",
       " '/usr/share/fonts/truetype/nanum/NanumSquareRoundB.ttf',\n",
       " '/usr/share/fonts/opentype/cantarell/Cantarell-ExtraBold.otf',\n",
       " '/usr/share/fonts/truetype/fonts-beng-extra/JamrulNormal.ttf',\n",
       " '/usr/share/fonts/truetype/liberation2/LiberationSans-Regular.ttf',\n",
       " '/usr/share/fonts/truetype/Nanum_Gothic/NanumGothic-ExtraBold.ttf',\n",
       " '/usr/share/fonts/truetype/tlwg/Purisa-Bold.ttf',\n",
       " '/usr/share/fonts/opentype/urw-base35/NimbusMonoPS-BoldItalic.otf',\n",
       " '/usr/share/fonts/truetype/fonts-yrsa-rasa/Rasa-Bold.ttf',\n",
       " '/usr/share/fonts/truetype/dejavu/DejaVuSansMono.ttf',\n",
       " '/usr/share/fonts/opentype/cantarell/Cantarell-Light.otf',\n",
       " '/usr/share/fonts/truetype/nanum/NanumGothicEco.ttf',\n",
       " '/usr/share/fonts/truetype/fonts-deva-extra/samanata.ttf',\n",
       " '/usr/share/fonts/truetype/tlwg/Norasi-BoldItalic.ttf',\n",
       " '/usr/share/fonts/truetype/tlwg/Sawasdee-Oblique.ttf',\n",
       " '/usr/share/fonts/truetype/liberation2/LiberationSerif-Regular.ttf',\n",
       " '/usr/share/fonts/truetype/kacst/KacstTitle.ttf',\n",
       " '/usr/share/fonts/truetype/liberation2/LiberationSans-Bold.ttf',\n",
       " '/usr/share/fonts/truetype/liberation2/LiberationSans-Italic.ttf',\n",
       " '/usr/share/fonts/truetype/lohit-punjabi/Lohit-Gurmukhi.ttf',\n",
       " '/usr/share/fonts/truetype/dejavu/DejaVuSansMono-Bold.ttf',\n",
       " '/usr/share/fonts/truetype/dejavu/DejaVuSerif-Bold.ttf',\n",
       " '/usr/share/fonts/truetype/kacst/KacstBook.ttf',\n",
       " '/usr/share/fonts/opentype/urw-base35/URWBookman-Light.otf',\n",
       " '/usr/share/fonts/truetype/fonts-gujr-extra/padmaa-Medium-0.5.ttf',\n",
       " '/usr/share/fonts/truetype/ubuntu/Ubuntu-R.ttf',\n",
       " '/usr/share/fonts/opentype/cantarell/Cantarell-Thin.otf',\n",
       " '/usr/share/fonts/truetype/liberation/LiberationSerif-Regular.ttf',\n",
       " '/usr/share/fonts/truetype/nanum/NanumBarunGothicUltraLight.ttf',\n",
       " '/usr/share/fonts/truetype/tlwg/Purisa-Oblique.ttf',\n",
       " '/usr/share/fonts/opentype/urw-base35/NimbusRoman-Regular.otf',\n",
       " '/usr/share/fonts/truetype/lohit-bengali/Lohit-Bengali.ttf',\n",
       " '/usr/share/fonts/truetype/tlwg/TlwgTypo-BoldOblique.ttf',\n",
       " '/usr/share/fonts/opentype/urw-base35/Z003-MediumItalic.otf',\n",
       " '/usr/share/fonts/truetype/kacst/KacstArt.ttf',\n",
       " '/usr/share/fonts/opentype/urw-base35/URWGothic-Book.otf',\n",
       " '/usr/share/fonts/opentype/noto/NotoSansCJK-Regular.ttc',\n",
       " '/usr/share/fonts/truetype/noto/NotoMono-Regular.ttf',\n",
       " '/usr/share/fonts/truetype/tlwg/Kinnari-Bold.ttf',\n",
       " '/usr/share/fonts/opentype/urw-base35/P052-Roman.otf',\n",
       " '/usr/share/fonts/truetype/malayalam/AnjaliOldLipi-Regular.ttf',\n",
       " '/usr/share/fonts/truetype/liberation/LiberationMono-Regular.ttf',\n",
       " '/usr/share/fonts/opentype/malayalam/Gayathri-Regular.otf',\n",
       " '/usr/share/fonts/truetype/fonts-yrsa-rasa/Yrsa-Regular.ttf',\n",
       " '/usr/share/fonts/truetype/ubuntu/Ubuntu-MI.ttf',\n",
       " '/usr/share/fonts/truetype/tlwg/Umpush-Light.ttf',\n",
       " '/usr/share/fonts/truetype/malayalam/Dyuthi-Regular.ttf',\n",
       " '/usr/share/fonts/opentype/urw-base35/P052-Bold.otf',\n",
       " '/usr/share/fonts/truetype/lohit-gujarati/Lohit-Gujarati.ttf',\n",
       " '/usr/share/fonts/truetype/Nanum_Gothic/NanumGothic-Bold.ttf',\n",
       " '/usr/share/fonts/truetype/tlwg/Umpush-Bold.ttf',\n",
       " '/usr/share/fonts/truetype/liberation/LiberationSerif-BoldItalic.ttf',\n",
       " '/usr/share/fonts/truetype/tlwg/TlwgTypist-Bold.ttf',\n",
       " '/usr/share/fonts/opentype/urw-base35/URWGothic-DemiOblique.otf',\n",
       " '/usr/share/fonts/truetype/fonts-yrsa-rasa/Rasa-SemiBold.ttf',\n",
       " '/usr/share/fonts/truetype/liberation/LiberationSans-Regular.ttf',\n",
       " '/usr/share/fonts/opentype/urw-base35/NimbusSansNarrow-Regular.otf',\n",
       " '/usr/share/fonts/truetype/tlwg/Kinnari-BoldItalic.ttf',\n",
       " '/usr/share/fonts/truetype/nanum/NanumGothic.ttf',\n",
       " '/usr/share/fonts/truetype/nanum/NanumBarunGothicBold.ttf',\n",
       " '/usr/share/fonts/opentype/malayalam/Chilanka-Regular.otf',\n",
       " '/usr/share/fonts/truetype/nanum/NanumPen.ttf',\n",
       " '/usr/share/fonts/truetype/tlwg/TlwgTypist-BoldOblique.ttf',\n",
       " '/usr/share/fonts/truetype/liberation/LiberationMono-Italic.ttf',\n",
       " '/usr/share/fonts/truetype/lohit-assamese/Lohit-Assamese.ttf',\n",
       " '/usr/share/fonts/truetype/liberation2/LiberationMono-BoldItalic.ttf',\n",
       " '/usr/share/fonts/truetype/tlwg/Sawasdee-BoldOblique.ttf',\n",
       " '/usr/share/fonts/truetype/liberation/LiberationSerif-Italic.ttf',\n",
       " '/usr/share/fonts/opentype/urw-base35/C059-Bold.otf',\n",
       " '/usr/share/fonts/truetype/freefont/FreeMonoOblique.ttf',\n",
       " '/usr/share/fonts/truetype/tlwg/TlwgTypo-Bold.ttf',\n",
       " '/usr/share/fonts/truetype/tlwg/Waree-BoldOblique.ttf',\n",
       " '/usr/share/fonts/truetype/tlwg/Sawasdee.ttf',\n",
       " '/usr/share/fonts/truetype/malayalam/RaghuMalayalamSans-Regular.ttf',\n",
       " '/usr/share/fonts/truetype/lohit-devanagari/Lohit-Devanagari.ttf',\n",
       " '/usr/share/fonts/truetype/liberation2/LiberationMono-Regular.ttf',\n",
       " '/usr/share/fonts/truetype/nanum/NanumGothicCoding-Bold.ttf',\n",
       " '/usr/share/fonts/truetype/tlwg/Kinnari-Oblique.ttf',\n",
       " '/usr/share/fonts/truetype/tlwg/Umpush-LightOblique.ttf',\n",
       " '/usr/share/fonts/truetype/tlwg/Purisa-BoldOblique.ttf',\n",
       " '/usr/share/fonts/truetype/fonts-beng-extra/LikhanNormal.ttf',\n",
       " '/usr/share/fonts/truetype/nanum/NanumSquareRoundR.ttf',\n",
       " '/usr/share/fonts/truetype/freefont/FreeSerifItalic.ttf',\n",
       " '/usr/share/fonts/truetype/fonts-yrsa-rasa/Yrsa-Bold.ttf',\n",
       " '/usr/share/fonts/truetype/lao/Phetsarath_OT.ttf',\n",
       " '/usr/share/fonts/opentype/urw-base35/NimbusSansNarrow-Oblique.otf',\n",
       " '/usr/share/fonts/truetype/freefont/FreeSansBold.ttf',\n",
       " '/usr/share/fonts/opentype/urw-base35/NimbusRoman-Italic.otf',\n",
       " '/usr/share/fonts/opentype/urw-base35/NimbusSans-Italic.otf',\n",
       " '/usr/share/fonts/truetype/tlwg/TlwgMono-Oblique.ttf',\n",
       " '/usr/share/fonts/truetype/nanum/NanumSquareRoundEB.ttf',\n",
       " '/usr/share/fonts/truetype/Sarai/Sarai.ttf',\n",
       " '/usr/share/fonts/truetype/nanum/NanumMyeongjoBold.ttf',\n",
       " '/usr/share/fonts/truetype/nanum/NanumGothicLight.ttf',\n",
       " '/usr/share/fonts/truetype/fonts-yrsa-rasa/Rasa-Light.ttf',\n",
       " '/usr/share/fonts/truetype/tlwg/Umpush-BoldOblique.ttf',\n",
       " '/usr/share/fonts/truetype/malayalam/Rachana-Regular.ttf',\n",
       " '/usr/share/fonts/truetype/ttf-khmeros-core/KhmerOSsys.ttf',\n",
       " '/usr/share/fonts/opentype/cantarell/Cantarell-Regular.otf',\n",
       " '/usr/share/fonts/truetype/kacst/KacstOffice.ttf',\n",
       " '/usr/share/fonts/truetype/kacst-one/KacstOne.ttf',\n",
       " '/usr/share/fonts/opentype/malayalam/Gayathri-Bold.otf',\n",
       " '/usr/share/fonts/truetype/nanum/NanumSquareRoundL.ttf',\n",
       " '/usr/share/fonts/truetype/ttf-khmeros-core/KhmerOS.ttf',\n",
       " '/usr/share/fonts/truetype/liberation/LiberationSansNarrow-BoldItalic.ttf',\n",
       " '/usr/share/fonts/truetype/tlwg/Purisa.ttf',\n",
       " '/usr/share/fonts/truetype/malayalam/Suruma.ttf',\n",
       " '/usr/share/fonts/truetype/samyak-fonts/Samyak-Tamil.ttf',\n",
       " '/usr/share/fonts/opentype/malayalam/Gayathri-Thin.otf',\n",
       " '/usr/share/fonts/truetype/fonts-yrsa-rasa/Rasa-Medium.ttf',\n",
       " '/usr/share/fonts/truetype/tlwg/TlwgTypewriter.ttf',\n",
       " '/usr/share/fonts/opentype/noto/NotoSansCJK-Black.ttc',\n",
       " '/usr/share/fonts/truetype/fonts-beng-extra/mitra.ttf',\n",
       " '/usr/share/fonts/truetype/nanum/NanumSquareL.ttf',\n",
       " '/usr/share/fonts/truetype/liberation/LiberationSansNarrow-Regular.ttf',\n",
       " '/usr/share/fonts/truetype/nanum/NanumMyeongjoEco.ttf',\n",
       " '/usr/share/fonts/truetype/tlwg/Waree.ttf',\n",
       " '/usr/share/fonts/truetype/ubuntu/Ubuntu-Th.ttf',\n",
       " '/usr/share/fonts/truetype/Gubbi/Gubbi.ttf',\n",
       " '/usr/share/fonts/truetype/tlwg/Loma-Bold.ttf',\n",
       " '/usr/share/fonts/truetype/lohit-kannada/Lohit-Kannada.ttf',\n",
       " '/usr/share/fonts/truetype/Navilu/Navilu.ttf',\n",
       " '/usr/share/fonts/truetype/Gargi/Gargi.ttf',\n",
       " '/usr/share/fonts/truetype/tlwg/TlwgMono-Bold.ttf',\n",
       " '/usr/share/fonts/truetype/freefont/FreeSans.ttf',\n",
       " '/usr/share/fonts/truetype/ubuntu/Ubuntu-M.ttf',\n",
       " '/usr/share/fonts/opentype/noto/NotoSerifCJK-Regular.ttc',\n",
       " '/usr/share/fonts/truetype/ubuntu/Ubuntu-C.ttf',\n",
       " '/usr/share/fonts/truetype/kacst/mry_KacstQurn.ttf',\n",
       " '/usr/share/fonts/truetype/tlwg/Waree-Bold.ttf',\n",
       " '/usr/share/fonts/truetype/fonts-beng-extra/MuktiNarrow.ttf',\n",
       " '/usr/share/fonts/truetype/tlwg/Umpush.ttf',\n",
       " '/usr/share/fonts/truetype/nanum/NanumMyeongjo.ttf',\n",
       " '/usr/share/fonts/truetype/fonts-orya-extra/utkal.ttf',\n",
       " '/usr/share/fonts/truetype/tlwg/Kinnari-Italic.ttf',\n",
       " '/usr/share/fonts/opentype/noto/NotoSerifCJK-Bold.ttc',\n",
       " '/usr/share/fonts/truetype/sinhala/lklug.ttf',\n",
       " '/usr/share/fonts/truetype/tlwg/Norasi-BoldOblique.ttf',\n",
       " '/usr/share/fonts/opentype/urw-base35/P052-BoldItalic.otf',\n",
       " '/usr/share/fonts/truetype/lohit-malayalam/Lohit-Malayalam.ttf',\n",
       " '/usr/share/fonts/truetype/liberation2/LiberationMono-Bold.ttf',\n",
       " '/usr/share/fonts/truetype/tlwg/TlwgTypewriter-Bold.ttf',\n",
       " '/usr/share/fonts/truetype/kacst-one/KacstOne-Bold.ttf',\n",
       " '/usr/share/fonts/opentype/urw-base35/NimbusMonoPS-Bold.otf',\n",
       " '/usr/share/fonts/opentype/urw-base35/StandardSymbolsPS.otf',\n",
       " '/usr/share/fonts/truetype/liberation/LiberationSansNarrow-Bold.ttf',\n",
       " '/usr/share/fonts/truetype/ubuntu/UbuntuMono-R.ttf',\n",
       " '/usr/share/fonts/truetype/padauk/Padauk-Bold.ttf',\n",
       " '/usr/share/fonts/truetype/nanum/NanumGothicCoding.ttf',\n",
       " '/usr/share/fonts/truetype/fonts-deva-extra/chandas1-2.ttf',\n",
       " '/usr/share/fonts/opentype/urw-base35/C059-Italic.otf',\n",
       " '/usr/share/fonts/opentype/urw-base35/NimbusMonoPS-Regular.otf',\n",
       " '/usr/share/fonts/truetype/kacst/KacstDigital.ttf',\n",
       " '/usr/share/fonts/truetype/fonts-telu-extra/vemana2000.ttf',\n",
       " '/usr/share/fonts/truetype/tlwg/TlwgTypist-Oblique.ttf',\n",
       " '/usr/share/fonts/truetype/abyssinica/AbyssinicaSIL-Regular.ttf',\n",
       " '/usr/share/fonts/truetype/tlwg/Kinnari.ttf',\n",
       " '/usr/share/fonts/truetype/kacst/KacstFarsi.ttf',\n",
       " '/usr/share/fonts/truetype/liberation2/LiberationMono-Italic.ttf',\n",
       " '/usr/share/fonts/truetype/liberation2/LiberationSerif-BoldItalic.ttf',\n",
       " '/usr/share/fonts/truetype/nanum/NanumMyeongjoEcoExtraBold.ttf',\n",
       " '/usr/share/fonts/opentype/noto/NotoSansCJK-Light.ttc',\n",
       " '/usr/share/fonts/truetype/malayalam/Meera-Regular.ttf',\n",
       " '/usr/share/fonts/truetype/tlwg/TlwgTypo.ttf',\n",
       " '/usr/share/fonts/truetype/tlwg/Garuda-Bold.ttf',\n",
       " '/usr/share/fonts/truetype/nanum/NanumBarunGothic.ttf',\n",
       " '/usr/share/fonts/truetype/nanum/NanumSquareR.ttf',\n",
       " '/usr/share/fonts/truetype/tlwg/Norasi-Oblique.ttf',\n",
       " '/usr/share/fonts/truetype/ubuntu/Ubuntu-LI.ttf',\n",
       " '/usr/share/fonts/opentype/urw-base35/C059-BdIta.otf',\n",
       " '/usr/share/fonts/truetype/ubuntu/UbuntuMono-BI.ttf',\n",
       " '/usr/share/fonts/truetype/ubuntu/Ubuntu-L.ttf',\n",
       " '/usr/share/fonts/truetype/malayalam/Rachana-Bold.ttf',\n",
       " '/usr/share/fonts/opentype/urw-base35/C059-Roman.otf',\n",
       " '/usr/share/fonts/truetype/droid/DroidSansFallbackFull.ttf',\n",
       " '/usr/share/fonts/truetype/liberation2/LiberationSans-BoldItalic.ttf',\n",
       " '/usr/share/fonts/truetype/tlwg/Garuda-BoldOblique.ttf',\n",
       " '/usr/share/fonts/truetype/fonts-gujr-extra/Rekha.ttf',\n",
       " '/usr/share/fonts/truetype/tlwg/Garuda-Oblique.ttf',\n",
       " '/usr/share/fonts/opentype/urw-base35/URWGothic-BookOblique.otf',\n",
       " '/usr/share/fonts/truetype/fonts-deva-extra/kalimati.ttf',\n",
       " '/usr/share/fonts/truetype/tibetan-machine/TibetanMachineUni.ttf',\n",
       " '/usr/share/fonts/truetype/tlwg/TlwgMono-BoldOblique.ttf',\n",
       " '/usr/share/fonts/truetype/freefont/FreeMono.ttf',\n",
       " '/usr/share/fonts/opentype/noto/NotoSerifCJK-ExtraLight.ttc',\n",
       " '/usr/share/fonts/opentype/urw-base35/P052-Italic.otf',\n",
       " '/usr/share/fonts/truetype/tlwg/TlwgMono.ttf',\n",
       " '/usr/share/fonts/truetype/fonts-kalapi/Kalapi.ttf',\n",
       " '/usr/share/fonts/truetype/malayalam/Uroob-Regular.ttf',\n",
       " '/usr/share/fonts/truetype/liberation/LiberationSansNarrow-Italic.ttf',\n",
       " '/usr/share/fonts/truetype/samyak/Samyak-Devanagari.ttf',\n",
       " '/usr/share/fonts/truetype/ubuntu/UbuntuMono-B.ttf',\n",
       " '/usr/share/fonts/truetype/tlwg/Garuda.ttf',\n",
       " '/usr/share/fonts/truetype/Nanum_Gothic/NanumGothic-Regular.ttf',\n",
       " '/usr/share/fonts/truetype/liberation/LiberationSerif-Bold.ttf',\n",
       " '/usr/share/fonts/truetype/fonts-yrsa-rasa/Rasa-Regular.ttf',\n",
       " '/usr/share/fonts/truetype/fonts-gujr-extra/padmaa.ttf',\n",
       " '/usr/share/fonts/truetype/tlwg/Norasi-Bold.ttf',\n",
       " '/usr/share/fonts/truetype/openoffice/opens___.ttf',\n",
       " '/usr/share/fonts/truetype/fonts-yrsa-rasa/Yrsa-Light.ttf',\n",
       " '/usr/share/fonts/truetype/freefont/FreeSansOblique.ttf',\n",
       " '/usr/share/fonts/opentype/urw-base35/NimbusSansNarrow-BoldOblique.otf',\n",
       " '/usr/share/fonts/truetype/kacst/KacstScreen.ttf',\n",
       " '/usr/share/fonts/opentype/malayalam/Manjari-Thin.otf',\n",
       " '/usr/share/fonts/truetype/nanum/NanumBarunpenB.ttf',\n",
       " '/usr/share/fonts/truetype/freefont/FreeSansBoldOblique.ttf',\n",
       " '/usr/share/fonts/truetype/nanum/NanumGothicExtraBold.ttf',\n",
       " '/usr/share/fonts/truetype/nanum/NanumGothicEcoExtraBold.ttf',\n",
       " '/usr/share/fonts/truetype/nanum/NanumSquareEB.ttf',\n",
       " '/usr/share/fonts/truetype/tlwg/Sawasdee-Bold.ttf',\n",
       " '/usr/share/fonts/truetype/liberation/LiberationSans-Bold.ttf',\n",
       " '/usr/share/fonts/truetype/freefont/FreeSerif.ttf',\n",
       " '/usr/share/fonts/opentype/urw-base35/NimbusRoman-BoldItalic.otf',\n",
       " '/usr/share/fonts/truetype/liberation/LiberationMono-Bold.ttf',\n",
       " '/usr/share/fonts/truetype/malayalam/Keraleeyam-Regular.ttf',\n",
       " '/usr/share/fonts/truetype/fonts-telu-extra/Pothana2000.ttf',\n",
       " '/usr/share/fonts/truetype/padauk/Padauk-Regular.ttf',\n",
       " '/usr/share/fonts/truetype/kacst/KacstQurn.ttf',\n",
       " '/usr/share/fonts/opentype/urw-base35/NimbusSans-Regular.otf',\n",
       " '/usr/share/fonts/truetype/kacst/KacstPen.ttf',\n",
       " '/usr/share/fonts/truetype/kacst/KacstDecorative.ttf',\n",
       " '/usr/share/fonts/truetype/freefont/FreeMonoBoldOblique.ttf',\n",
       " '/usr/share/fonts/truetype/malayalam/Karumbi-Regular.ttf',\n",
       " '/usr/share/fonts/opentype/noto/NotoSerifCJK-Medium.ttc',\n",
       " '/usr/share/fonts/opentype/urw-base35/NimbusSans-Bold.otf',\n",
       " '/usr/share/fonts/truetype/liberation2/LiberationSerif-Bold.ttf',\n",
       " '/usr/share/fonts/truetype/pagul/Pagul.ttf',\n",
       " '/usr/share/fonts/truetype/tlwg/TlwgTypewriter-Oblique.ttf',\n",
       " '/usr/share/fonts/opentype/malayalam/Manjari-Bold.otf',\n",
       " '/usr/share/fonts/truetype/fonts-gujr-extra/aakar-medium.ttf',\n",
       " '/usr/share/fonts/truetype/tlwg/TlwgTypist.ttf',\n",
       " '/usr/share/fonts/truetype/ubuntu/Ubuntu-BI.ttf',\n",
       " '/usr/share/fonts/opentype/noto/NotoSerifCJK-SemiBold.ttc',\n",
       " '/usr/share/fonts/truetype/nanum/NanumGothicBold.ttf',\n",
       " '/usr/share/fonts/truetype/ubuntu/Ubuntu-B.ttf',\n",
       " '/usr/share/fonts/truetype/liberation2/LiberationSerif-Italic.ttf',\n",
       " '/usr/share/fonts/truetype/samyak-fonts/Samyak-Malayalam.ttf',\n",
       " '/usr/share/fonts/truetype/Nakula/nakula.ttf',\n",
       " '/usr/share/fonts/opentype/noto/NotoSansCJK-Bold.ttc',\n",
       " '/usr/share/fonts/truetype/tlwg/TlwgTypo-Oblique.ttf',\n",
       " '/usr/share/fonts/truetype/kacst/KacstNaskh.ttf',\n",
       " '/usr/share/fonts/truetype/tlwg/Laksaman-BoldItalic.ttf',\n",
       " '/usr/share/fonts/truetype/nanum/NanumSquareB.ttf',\n",
       " '/usr/share/fonts/truetype/fonts-yrsa-rasa/Yrsa-SemiBold.ttf',\n",
       " '/usr/share/fonts/opentype/urw-base35/NimbusMonoPS-Italic.otf',\n",
       " '/usr/share/fonts/truetype/tlwg/Laksaman-Bold.ttf',\n",
       " '/usr/share/fonts/truetype/freefont/FreeMonoBold.ttf',\n",
       " '/usr/share/fonts/opentype/urw-base35/NimbusRoman-Bold.otf',\n",
       " '/usr/share/fonts/truetype/dejavu/DejaVuSans-Bold.ttf',\n",
       " '/usr/share/fonts/truetype/liberation/LiberationMono-BoldItalic.ttf',\n",
       " '/usr/share/fonts/opentype/cantarell/Cantarell-Bold.otf',\n",
       " '/usr/share/fonts/truetype/fonts-beng-extra/ani.ttf',\n",
       " '/usr/share/fonts/truetype/ubuntu/Ubuntu-RI.ttf',\n",
       " '/usr/share/fonts/truetype/nanum/NanumBarunpenR.ttf',\n",
       " '/usr/share/fonts/opentype/noto/NotoSerifCJK-Black.ttc',\n",
       " '/usr/share/fonts/truetype/nanum/NanumMyeongjoExtraBold.ttf',\n",
       " '/usr/share/fonts/opentype/noto/NotoSansCJK-Medium.ttc',\n",
       " '/usr/share/fonts/opentype/urw-base35/D050000L.otf',\n",
       " '/usr/share/fonts/truetype/tlwg/Umpush-Oblique.ttf',\n",
       " '/usr/share/fonts/truetype/kacst/KacstTitleL.ttf',\n",
       " '/usr/share/fonts/truetype/tlwg/Laksaman.ttf',\n",
       " '/usr/share/fonts/truetype/padauk/PadaukBook-Regular.ttf',\n",
       " '/usr/share/fonts/truetype/lohit-oriya/Lohit-Odia.ttf',\n",
       " '/usr/share/fonts/opentype/noto/NotoSansCJK-Thin.ttc',\n",
       " '/usr/share/fonts/truetype/padauk/PadaukBook-Bold.ttf',\n",
       " '/usr/share/fonts/truetype/Sahadeva/sahadeva.ttf',\n",
       " '/usr/share/fonts/truetype/nanum/NanumBarunGothicLight.ttf',\n",
       " '/usr/share/fonts/opentype/urw-base35/URWGothic-Demi.otf',\n",
       " '/usr/share/fonts/truetype/lohit-tamil/Lohit-Tamil.ttf',\n",
       " '/usr/share/fonts/truetype/tlwg/Loma-Oblique.ttf',\n",
       " '/usr/share/fonts/opentype/urw-base35/NimbusSansNarrow-Bold.otf',\n",
       " '/usr/share/fonts/truetype/tlwg/Norasi-Italic.ttf',\n",
       " '/usr/share/fonts/opentype/urw-base35/URWBookman-DemiItalic.otf',\n",
       " '/usr/share/fonts/opentype/noto/NotoSansCJK-DemiLight.ttc',\n",
       " '/usr/share/fonts/truetype/lohit-telugu/Lohit-Telugu.ttf',\n",
       " '/usr/share/fonts/truetype/tlwg/TlwgTypewriter-BoldOblique.ttf',\n",
       " '/usr/share/fonts/truetype/dejavu/DejaVuSerif.ttf',\n",
       " '/usr/share/fonts/opentype/urw-base35/URWBookman-Demi.otf',\n",
       " '/usr/share/fonts/truetype/dejavu/DejaVuSans.ttf',\n",
       " '/usr/share/fonts/truetype/tlwg/Loma-BoldOblique.ttf',\n",
       " '/usr/share/fonts/truetype/freefont/FreeSerifBoldItalic.ttf',\n",
       " '/usr/share/fonts/opentype/urw-base35/URWBookman-LightItalic.otf',\n",
       " '/usr/share/fonts/truetype/kacst/KacstPoster.ttf',\n",
       " '/usr/share/fonts/truetype/fonts-guru-extra/Saab.ttf',\n",
       " '/usr/share/fonts/opentype/noto/NotoSerifCJK-Light.ttc',\n",
       " '/usr/share/fonts/truetype/tlwg/Norasi.ttf']"
      ]
     },
     "execution_count": 10,
     "metadata": {},
     "output_type": "execute_result"
    }
   ],
   "source": [
    "# 사용 가능한 ttf 폰트 목록\n",
    "\n",
    "import matplotlib\n",
    "import matplotlib.font_manager\n",
    "\n",
    "# matplotlib.font_manager.fontManager.ttflist \n",
    "[f.fname for f in matplotlib.font_manager.fontManager.ttflist]"
   ]
  },
  {
   "cell_type": "markdown",
   "id": "protective-branch",
   "metadata": {},
   "source": [
    "- 사용가능한 폰트 목록 중 나눔글꼴(이름에 'Nanum'이 포함된) 폰트 목록만 추출"
   ]
  },
  {
   "cell_type": "code",
   "execution_count": 11,
   "id": "valuable-percentage",
   "metadata": {},
   "outputs": [
    {
     "data": {
      "text/plain": [
       "[('NanumMyeongjo Eco',\n",
       "  '/home/mspark/.local/lib/python3.8/site-packages/matplotlib/mpl-data/fonts/ttf/NanumMyeongjoEcoBold.ttf'),\n",
       " ('NanumGothic',\n",
       "  '/home/mspark/.local/lib/python3.8/site-packages/matplotlib/mpl-data/fonts/ttf/NanumGothicLight.ttf'),\n",
       " ('NanumSquare',\n",
       "  '/home/mspark/.local/lib/python3.8/site-packages/matplotlib/mpl-data/fonts/ttf/NanumSquareEB.ttf'),\n",
       " ('NanumGothic Eco',\n",
       "  '/home/mspark/.local/lib/python3.8/site-packages/matplotlib/mpl-data/fonts/ttf/NanumGothicEco.ttf'),\n",
       " ('NanumSquare',\n",
       "  '/home/mspark/.local/lib/python3.8/site-packages/matplotlib/mpl-data/fonts/ttf/NanumSquareB.ttf'),\n",
       " ('NanumSquareRound',\n",
       "  '/home/mspark/.local/lib/python3.8/site-packages/matplotlib/mpl-data/fonts/ttf/NanumSquareRoundR.ttf'),\n",
       " ('NanumBarunGothic',\n",
       "  '/home/mspark/.local/lib/python3.8/site-packages/matplotlib/mpl-data/fonts/ttf/NanumBarunGothicBold.ttf'),\n",
       " ('NanumGothic',\n",
       "  '/home/mspark/.local/lib/python3.8/site-packages/matplotlib/mpl-data/fonts/ttf/NanumGothicBold.ttf'),\n",
       " ('NanumMyeongjo Eco',\n",
       "  '/home/mspark/.local/lib/python3.8/site-packages/matplotlib/mpl-data/fonts/ttf/NanumMyeongjoEco.ttf'),\n",
       " ('NanumBarunGothic',\n",
       "  '/home/mspark/.local/lib/python3.8/site-packages/matplotlib/mpl-data/fonts/ttf/NanumBarunGothicLight.ttf'),\n",
       " ('NanumGothic Eco',\n",
       "  '/home/mspark/.local/lib/python3.8/site-packages/matplotlib/mpl-data/fonts/ttf/NanumGothicEcoExtraBold.ttf'),\n",
       " ('Nanum Pen Script',\n",
       "  '/home/mspark/.local/lib/python3.8/site-packages/matplotlib/mpl-data/fonts/ttf/NanumPen.ttf'),\n",
       " ('NanumMyeongjo',\n",
       "  '/home/mspark/.local/lib/python3.8/site-packages/matplotlib/mpl-data/fonts/ttf/NanumMyeongjoExtraBold.ttf'),\n",
       " ('NanumGothicCoding',\n",
       "  '/home/mspark/.local/lib/python3.8/site-packages/matplotlib/mpl-data/fonts/ttf/NanumGothicCoding.ttf'),\n",
       " ('NanumGothic Eco',\n",
       "  '/home/mspark/.local/lib/python3.8/site-packages/matplotlib/mpl-data/fonts/ttf/NanumGothicEcoBold.ttf'),\n",
       " ('NanumMyeongjo',\n",
       "  '/home/mspark/.local/lib/python3.8/site-packages/matplotlib/mpl-data/fonts/ttf/NanumMyeongjo.ttf'),\n",
       " ('NanumBarunpen',\n",
       "  '/home/mspark/.local/lib/python3.8/site-packages/matplotlib/mpl-data/fonts/ttf/NanumBarunpenR.ttf'),\n",
       " ('NanumGothicCoding',\n",
       "  '/home/mspark/.local/lib/python3.8/site-packages/matplotlib/mpl-data/fonts/ttf/NanumGothicCoding-Bold.ttf'),\n",
       " ('NanumSquare',\n",
       "  '/home/mspark/.local/lib/python3.8/site-packages/matplotlib/mpl-data/fonts/ttf/NanumSquareR.ttf'),\n",
       " ('NanumGothic',\n",
       "  '/home/mspark/.local/lib/python3.8/site-packages/matplotlib/mpl-data/fonts/ttf/NanumGothicExtraBold.ttf'),\n",
       " ('NanumBarunpen',\n",
       "  '/home/mspark/.local/lib/python3.8/site-packages/matplotlib/mpl-data/fonts/ttf/NanumBarunpenB.ttf'),\n",
       " ('NanumBarunGothic',\n",
       "  '/home/mspark/.local/lib/python3.8/site-packages/matplotlib/mpl-data/fonts/ttf/NanumBarunGothic.ttf'),\n",
       " ('NanumSquareRound',\n",
       "  '/home/mspark/.local/lib/python3.8/site-packages/matplotlib/mpl-data/fonts/ttf/NanumSquareRoundEB.ttf'),\n",
       " ('NanumSquareRound',\n",
       "  '/home/mspark/.local/lib/python3.8/site-packages/matplotlib/mpl-data/fonts/ttf/NanumSquareRoundL.ttf'),\n",
       " ('NanumBarunGothic',\n",
       "  '/home/mspark/.local/lib/python3.8/site-packages/matplotlib/mpl-data/fonts/ttf/NanumBarunGothicUltraLight.ttf'),\n",
       " ('NanumSquare',\n",
       "  '/home/mspark/.local/lib/python3.8/site-packages/matplotlib/mpl-data/fonts/ttf/NanumSquareL.ttf'),\n",
       " ('NanumMyeongjo',\n",
       "  '/home/mspark/.local/lib/python3.8/site-packages/matplotlib/mpl-data/fonts/ttf/NanumMyeongjoBold.ttf'),\n",
       " ('NanumSquareRound',\n",
       "  '/home/mspark/.local/lib/python3.8/site-packages/matplotlib/mpl-data/fonts/ttf/NanumSquareRoundB.ttf'),\n",
       " ('NanumMyeongjo Eco',\n",
       "  '/home/mspark/.local/lib/python3.8/site-packages/matplotlib/mpl-data/fonts/ttf/NanumMyeongjoEcoExtraBold.ttf'),\n",
       " ('NanumGothic',\n",
       "  '/home/mspark/.local/lib/python3.8/site-packages/matplotlib/mpl-data/fonts/ttf/NanumGothic.ttf'),\n",
       " ('Nanum Brush Script',\n",
       "  '/home/mspark/.local/lib/python3.8/site-packages/matplotlib/mpl-data/fonts/ttf/NanumBrush.ttf'),\n",
       " ('NanumGothic Eco', '/usr/share/fonts/truetype/nanum/NanumGothicEcoBold.ttf'),\n",
       " ('Nanum Brush Script', '/usr/share/fonts/truetype/nanum/NanumBrush.ttf'),\n",
       " ('NanumMyeongjo Eco',\n",
       "  '/usr/share/fonts/truetype/nanum/NanumMyeongjoEcoBold.ttf'),\n",
       " ('NanumSquareRound', '/usr/share/fonts/truetype/nanum/NanumSquareRoundB.ttf'),\n",
       " ('NanumGothic',\n",
       "  '/usr/share/fonts/truetype/Nanum_Gothic/NanumGothic-ExtraBold.ttf'),\n",
       " ('NanumGothic Eco', '/usr/share/fonts/truetype/nanum/NanumGothicEco.ttf'),\n",
       " ('NanumBarunGothic',\n",
       "  '/usr/share/fonts/truetype/nanum/NanumBarunGothicUltraLight.ttf'),\n",
       " ('NanumGothic',\n",
       "  '/usr/share/fonts/truetype/Nanum_Gothic/NanumGothic-Bold.ttf'),\n",
       " ('NanumGothic', '/usr/share/fonts/truetype/nanum/NanumGothic.ttf'),\n",
       " ('NanumBarunGothic',\n",
       "  '/usr/share/fonts/truetype/nanum/NanumBarunGothicBold.ttf'),\n",
       " ('Nanum Pen Script', '/usr/share/fonts/truetype/nanum/NanumPen.ttf'),\n",
       " ('NanumGothicCoding',\n",
       "  '/usr/share/fonts/truetype/nanum/NanumGothicCoding-Bold.ttf'),\n",
       " ('NanumSquareRound', '/usr/share/fonts/truetype/nanum/NanumSquareRoundR.ttf'),\n",
       " ('NanumSquareRound',\n",
       "  '/usr/share/fonts/truetype/nanum/NanumSquareRoundEB.ttf'),\n",
       " ('NanumMyeongjo', '/usr/share/fonts/truetype/nanum/NanumMyeongjoBold.ttf'),\n",
       " ('NanumGothic', '/usr/share/fonts/truetype/nanum/NanumGothicLight.ttf'),\n",
       " ('NanumSquareRound', '/usr/share/fonts/truetype/nanum/NanumSquareRoundL.ttf'),\n",
       " ('NanumSquare', '/usr/share/fonts/truetype/nanum/NanumSquareL.ttf'),\n",
       " ('NanumMyeongjo Eco', '/usr/share/fonts/truetype/nanum/NanumMyeongjoEco.ttf'),\n",
       " ('NanumMyeongjo', '/usr/share/fonts/truetype/nanum/NanumMyeongjo.ttf'),\n",
       " ('NanumGothicCoding',\n",
       "  '/usr/share/fonts/truetype/nanum/NanumGothicCoding.ttf'),\n",
       " ('NanumMyeongjo Eco',\n",
       "  '/usr/share/fonts/truetype/nanum/NanumMyeongjoEcoExtraBold.ttf'),\n",
       " ('NanumBarunGothic', '/usr/share/fonts/truetype/nanum/NanumBarunGothic.ttf'),\n",
       " ('NanumSquare', '/usr/share/fonts/truetype/nanum/NanumSquareR.ttf'),\n",
       " ('NanumGothic',\n",
       "  '/usr/share/fonts/truetype/Nanum_Gothic/NanumGothic-Regular.ttf'),\n",
       " ('NanumBarunpen', '/usr/share/fonts/truetype/nanum/NanumBarunpenB.ttf'),\n",
       " ('NanumGothic', '/usr/share/fonts/truetype/nanum/NanumGothicExtraBold.ttf'),\n",
       " ('NanumGothic Eco',\n",
       "  '/usr/share/fonts/truetype/nanum/NanumGothicEcoExtraBold.ttf'),\n",
       " ('NanumSquare', '/usr/share/fonts/truetype/nanum/NanumSquareEB.ttf'),\n",
       " ('NanumGothic', '/usr/share/fonts/truetype/nanum/NanumGothicBold.ttf'),\n",
       " ('NanumSquare', '/usr/share/fonts/truetype/nanum/NanumSquareB.ttf'),\n",
       " ('NanumBarunpen', '/usr/share/fonts/truetype/nanum/NanumBarunpenR.ttf'),\n",
       " ('NanumMyeongjo',\n",
       "  '/usr/share/fonts/truetype/nanum/NanumMyeongjoExtraBold.ttf'),\n",
       " ('NanumBarunGothic',\n",
       "  '/usr/share/fonts/truetype/nanum/NanumBarunGothicLight.ttf')]"
      ]
     },
     "execution_count": 11,
     "metadata": {},
     "output_type": "execute_result"
    }
   ],
   "source": [
    "# 나눔글꼴 (이름에 'Nanum'이 포함된) 폰트 목록\n",
    "\n",
    "import matplotlib\n",
    "import matplotlib.font_manager\n",
    "\n",
    "[f.name for f in matplotlib.font_manager.fontManager.ttflist if 'Nanum' in f.name]\n",
    "# [(f.name, f.fname) for f in matplotlib.font_manager.fontManager.ttflist if 'Nanum' in f.name]\n",
    "[(f.name, f.fname) for f in matplotlib.font_manager.fontManager.ttflist if 'Nanum' in f.name]\n"
   ]
  },
  {
   "cell_type": "markdown",
   "id": "engaging-teddy",
   "metadata": {},
   "source": [
    "### 폰트를 지정하는 두가지 방법\n",
    "\n",
    "matplotlib에서 폰트를 지정하여 출력하는 대표적인 방법 두가지\n",
    "\n",
    "1. 텍스트 출력시 폰트 특성을 지정 : FontProperties 속성으로 폰트 속성을 지정\n",
    "\n",
    "2. 전역으로 지정 : rcParms를 사용하여 전역으로 설정값을 지정"
   ]
  },
  {
   "cell_type": "markdown",
   "id": "practical-radical",
   "metadata": {},
   "source": [
    "### 텍스트 출력시 폰트 특성을 지정\n",
    "\n",
    "텍스트를 출력하는 담음 함수들을 사용할 때, fontproperties 인자에 폰트를 지정할 수 있다.\n",
    "\n",
    "matplotlib.pyplot\n",
    "- title()\n",
    "- xlabel()\n",
    "- ylabel()\n",
    "- legend()\n",
    "- text()\n",
    "\n",
    "matplotlib.axes\n",
    "- set_title()\n",
    "\n",
    "예를들어, 다음과 같이 텍스트와 폰트를 지정하여 출력할 수 있다.\n",
    "- matplotlib.text(0,0, \"sample text\", fontproperties=fontprop)"
   ]
  },
  {
   "cell_type": "code",
   "execution_count": 12,
   "id": "forbidden-relay",
   "metadata": {},
   "outputs": [
    {
     "data": {
      "image/png": "[encoded data removed]",
      "text/plain": [
       "<Figure size 432x288 with 1 Axes>"
      ]
     },
     "metadata": {
      "needs_background": "light"
     },
     "output_type": "display_data"
    }
   ],
   "source": [
    "import matplotlib.pyplot as plt\n",
    "import matplotlib.font_manager as fm\n",
    "\n",
    "path = '/home/mspark/.local/lib/python3.8/site-packages/matplotlib/mpl-data/fonts/ttf/NanumGothicBold.ttf'\n",
    "fontprop = fm.FontProperties(fname=path, size=18)\n",
    "\n",
    "plt.plot(range(50), data, 'r')\n",
    "plt.title('가격변동 추이', fontproperties=fontprop)\n",
    "plt.ylabel('가격', fontproperties=fontprop)\n",
    "plt.show()"
   ]
  },
  {
   "cell_type": "code",
   "execution_count": 13,
   "id": "municipal-campbell",
   "metadata": {},
   "outputs": [
    {
     "data": {
      "image/png": "[encoded data removed]",
      "text/plain": [
       "<Figure size 432x288 with 1 Axes>"
      ]
     },
     "metadata": {
      "needs_background": "light"
     },
     "output_type": "display_data"
    }
   ],
   "source": [
    "# TTF 파일을 직접 지정하는 방법\n",
    "\n",
    "import matplotlib.pyplot as plt\n",
    "import matplotlib.font_manager as fm\n",
    "\n",
    "path_gothic = '/home/mspark/.local/lib/python3.8/site-packages/matplotlib/mpl-data/fonts/ttf/NanumGothicLight.ttf'\n",
    "font_gothic = fm.FontProperties(fname=path_gothic, size=20)\n",
    "\n",
    "path_pen = '/home/mspark/.local/lib/python3.8/site-packages/matplotlib/mpl-data/fonts/ttf/NanumPen.ttf'\n",
    "font_pen = fm.FontProperties(fname=path_pen, size=34)\n",
    "\n",
    "plt.plot(range(50), data, 'r')\n",
    "plt.ylabel('가격', fontproperties=font_gothic)\n",
    "plt.title('가격변동추이', fontproperties=font_pen)\n",
    "plt.show()"
   ]
  },
  {
   "cell_type": "code",
   "execution_count": 14,
   "id": "sunrise-bosnia",
   "metadata": {},
   "outputs": [
    {
     "name": "stdout",
     "output_type": "stream",
     "text": [
      "sans\\-serif:style=normal:variant=normal:weight=normal:stretch=normal:file=/usr/share/fonts/truetype/nanum/NanumGothicCoding.ttf:size=18.0\n"
     ]
    },
    {
     "data": {
      "image/png": "[encoded data removed]",
      "text/plain": [
       "<Figure size 432x288 with 1 Axes>"
      ]
     },
     "metadata": {
      "needs_background": "light"
     },
     "output_type": "display_data"
    }
   ],
   "source": [
    "path = '/usr/share/fonts/truetype/nanum/NanumGothicCoding.ttf'\n",
    "prop = fm.FontProperties(fname=path, size=18)\n",
    "print(prop)\n",
    "fig, ax = plt.subplots()\n",
    "ax.plot(data)\n",
    "ax.set_title('가격 변화 (나눔고딕코딩)', fontproperties=prop)\n",
    "\n",
    "plt.show()"
   ]
  },
  {
   "cell_type": "markdown",
   "id": "composed-table",
   "metadata": {},
   "source": [
    "### 폰트 파일의 위치\n",
    "\n",
    "- 폰트가 항상 '/usr/share/fonts'에 있어야 하는 것은 아니다.\n",
    "\n",
    "\n",
    "- ttf 폰트 파일을 복사해서 바로 사용할 수도 있다.\n",
    "현대 디렉토리에 NanumGothic-ExtraBold.ttf 파일을 복사하여 사용할 수 있다."
   ]
  },
  {
   "cell_type": "code",
   "execution_count": 15,
   "id": "heard-efficiency",
   "metadata": {},
   "outputs": [
    {
     "name": "stdout",
     "output_type": "stream",
     "text": [
      "total 10280\r\n",
      "drwxr-xr-x  4 mspark users     4096  3월 14 00:51 \u001b[0m\u001b[01;34m.\u001b[0m/\r\n",
      "drwxrwxr-x 12 mspark mspark    4096  3월 14 00:12 \u001b[01;34m..\u001b[0m/\r\n",
      "drwxr-xr-x  2 mspark users     4096  3월 14 00:51 \u001b[01;34m.ipynb_checkpoints\u001b[0m/\r\n",
      "-rw-r--r--  1 mspark users   271514  3월 14 00:50 matplotlib_basic_한글_20210313.ipynb\r\n",
      "-rw-rw-r--  1 mspark mspark 3883296  3월 13 23:57 NanumGothic-ExtraBold.ttf\r\n",
      "drwxrwxr-x  3 mspark mspark    4096  3월 14 00:05 \u001b[01;34mtvN10font_TTF\u001b[0m/\r\n",
      "-rw-rw-r--  1 mspark mspark 2902672  9월 13  2016 tvN_Bold.ttf\r\n",
      "-rw-rw-r--  1 mspark mspark 3442816  9월 13  2016 tvN_Light.ttf\r\n"
     ]
    }
   ],
   "source": [
    "ls -al"
   ]
  },
  {
   "cell_type": "code",
   "execution_count": 16,
   "id": "infectious-effort",
   "metadata": {},
   "outputs": [
    {
     "data": {
      "image/png": "[encoded data removed]",
      "text/plain": [
       "<Figure size 432x288 with 1 Axes>"
      ]
     },
     "metadata": {
      "needs_background": "light"
     },
     "output_type": "display_data"
    }
   ],
   "source": [
    "import matplotlib.font_manager as fm\n",
    "\n",
    "fontprop = fm.FontProperties(fname=\"./tvN_Bold.ttf\", size=34)\n",
    "\n",
    "plt.title('tvN10폰트 제목', fontproperties=fontprop)\n",
    "plt.plot(data)\n",
    "plt.show()"
   ]
  },
  {
   "cell_type": "markdown",
   "id": "missing-category",
   "metadata": {},
   "source": [
    "### 전역 글꼴 설정 : matplotlib.rcParams[]\n",
    "\n",
    "matplotlib.rcParams를 통해 matplotlib의 다양한 설정값을 읽거나 지정할 수 있다.\n",
    "\n",
    "https://matplotlib.org/users/customizing.html"
   ]
  },
  {
   "cell_type": "code",
   "execution_count": 17,
   "id": "jewish-category",
   "metadata": {},
   "outputs": [
    {
     "name": "stdout",
     "output_type": "stream",
     "text": [
      "10.0\n",
      "['sans-serif']\n"
     ]
    }
   ],
   "source": [
    "# 기본 설정 읽기\n",
    "\n",
    "import matplotlib.pyplot as plt\n",
    "\n",
    "# size, family\n",
    "print(plt.rcParams['font.size'])\n",
    "print(plt.rcParams['font.family'])"
   ]
  },
  {
   "cell_type": "code",
   "execution_count": 18,
   "id": "dangerous-disorder",
   "metadata": {},
   "outputs": [
    {
     "name": "stdout",
     "output_type": "stream",
     "text": [
      "['DejaVu Serif', 'Bitstream Vera Serif', 'Computer Modern Roman', 'New Century Schoolbook', 'Century Schoolbook L', 'Utopia', 'ITC Bookman', 'Bookman', 'Nimbus Roman No9 L', 'Times New Roman', 'Times', 'Palatino', 'Charter', 'serif']\n",
      "['DejaVu Sans', 'Bitstream Vera Sans', 'Computer Modern Sans Serif', 'Lucida Grande', 'Verdana', 'Geneva', 'Lucid', 'Arial', 'Helvetica', 'Avant Garde', 'sans-serif']\n",
      "['DejaVu Sans Mono', 'Bitstream Vera Sans Mono', 'Computer Modern Typewriter', 'Andale Mono', 'Nimbus Mono L', 'Courier New', 'Courier', 'Fixed', 'Terminal', 'monospace']\n"
     ]
    }
   ],
   "source": [
    "# serif, sans-serif, monospace\n",
    "print(plt.rcParams['font.serif'])\n",
    "print(plt.rcParams['font.sans-serif'])\n",
    "print(plt.rcParams['font.monospace'])"
   ]
  },
  {
   "cell_type": "markdown",
   "id": "hungry-forwarding",
   "metadata": {},
   "source": [
    "- 폰트의 기본값들을 다음과 같이 설정할 수 있다"
   ]
  },
  {
   "cell_type": "code",
   "execution_count": 19,
   "id": "swedish-stevens",
   "metadata": {},
   "outputs": [
    {
     "data": {
      "image/png": "[encoded data removed]",
      "text/plain": [
       "<Figure size 432x288 with 1 Axes>"
      ]
     },
     "metadata": {
      "needs_background": "light"
     },
     "output_type": "display_data"
    }
   ],
   "source": [
    "import matplotlib.pyplot as plt\n",
    "\n",
    "plt.rcParams[\"font.family\"] = 'NanumGothicCoding'\n",
    "plt.rc('axes', unicode_minus=True) # RuntimeWarning: Glyph 8722 missing from current font.\n",
    "plt.rcParams['font.size'] = 12.\n",
    "plt.rcParams['xtick.labelsize'] = 24.\n",
    "plt.rcParams['ytick.labelsize'] = 24.\n",
    "plt.rcParams['axes.labelsize'] = 20.\n",
    "\n",
    "plt.title('가격의 변화')\n",
    "plt.plot(range(50), data, 'r')\n",
    "plt.show()"
   ]
  },
  {
   "cell_type": "markdown",
   "id": "fitted-oregon",
   "metadata": {},
   "source": [
    "- 레이블에 '-'가 있는 경우 유니코드의 '-'문자를 그대로 출력하면 '-' 부호만 깨져 보인다. 이를 방지하기 위해 'axes.unicode_minus' 옵션을 False로 지정한다.\n",
    "\n",
    "\n",
    "- RuntimeWarning: Glyph 8722 missing from current font."
   ]
  },
  {
   "cell_type": "code",
   "execution_count": 20,
   "id": "annual-fleece",
   "metadata": {},
   "outputs": [
    {
     "data": {
      "image/png": "[encoded data removed]",
      "text/plain": [
       "<Figure size 432x288 with 1 Axes>"
      ]
     },
     "metadata": {
      "needs_background": "light"
     },
     "output_type": "display_data"
    }
   ],
   "source": [
    "import matplotlib.pyplot as plt\n",
    "\n",
    "plt.rcParams[\"font.family\"] = 'NanumGothicCoding'\n",
    "plt.rc('axes', unicode_minus=False) # RuntimeWarning: Glyph 8722 missing from current font.\n",
    "plt.rcParams['font.size'] = 12.\n",
    "plt.rcParams['xtick.labelsize'] = 24.\n",
    "plt.rcParams['ytick.labelsize'] = 24.\n",
    "plt.rcParams['axes.labelsize'] = 20.\n",
    "\n",
    "plt.title('가격의 변화')\n",
    "plt.plot(range(50), data, 'r')\n",
    "plt.show()"
   ]
  },
  {
   "cell_type": "code",
   "execution_count": 24,
   "id": "organizational-marker",
   "metadata": {},
   "outputs": [
    {
     "data": {
      "image/png": "[encoded data removed]",
      "text/plain": [
       "<Figure size 1008x288 with 1 Axes>"
      ]
     },
     "metadata": {
      "needs_background": "light"
     },
     "output_type": "display_data"
    }
   ],
   "source": [
    "import matplotlib.pyplot as plt\n",
    "\n",
    "plt.rcParams[\"font.family\"] = 'NanumGothic'\n",
    "plt.rcParams[\"font.size\"] = 20\n",
    "plt.rcParams[\"figure.figsize\"] = (14,4)\n",
    "\n",
    "plt.title('가격의 변화')\n",
    "plt.plot(range(50), data, 'r')\n",
    "plt.show()"
   ]
  },
  {
   "cell_type": "markdown",
   "id": "southwest-guyana",
   "metadata": {},
   "source": [
    "### TTF 파일에서 폰트 이름 얻어 전역 설정\n",
    "\n",
    "- 'font-family'에 지정할 이름을 .ttf 파일로 부터 얻을 수 있다."
   ]
  },
  {
   "cell_type": "code",
   "execution_count": 22,
   "id": "electrical-trainer",
   "metadata": {},
   "outputs": [
    {
     "name": "stdout",
     "output_type": "stream",
     "text": [
      "NanumGothic\n"
     ]
    }
   ],
   "source": [
    "from matplotlib import font_manager, rc\n",
    "\n",
    "font_fname = '/usr/share/fonts/truetype/nanum/NanumGothic.ttf'\n",
    "font_name = font_manager.FontProperties(fname=font_fname).get_name()\n",
    "\n",
    "rc('font', family=font_name)\n",
    "print(font_name)"
   ]
  },
  {
   "cell_type": "markdown",
   "id": "typical-concord",
   "metadata": {},
   "source": [
    "### (참고) 시스템에 설치된 글꼴 확인\n",
    "\n",
    "- Ubuntu 에 설치되이 있는 글꼴 목록을 fc-list 명령어로 볼 수 있다."
   ]
  },
  {
   "cell_type": "code",
   "execution_count": 25,
   "id": "spectacular-melissa",
   "metadata": {},
   "outputs": [
    {
     "name": "stdout",
     "output_type": "stream",
     "text": [
      "/usr/share/fonts/truetype/tlwg/TlwgTypo-Bold.ttf: Tlwg Typo:style=Bold\r\n",
      "/usr/share/fonts/truetype/dejavu/DejaVuSerif-Bold.ttf: DejaVu Serif:style=Bold\r\n",
      "/usr/share/fonts/opentype/urw-base35/URWBookman-LightItalic.otf: URW Bookman:style=Light Italic\r\n",
      "/usr/share/fonts/truetype/fonts-kalapi/Kalapi.ttf: Kalapi:style=Regular\r\n",
      "/usr/share/fonts/truetype/fonts-gujr-extra/Rekha.ttf: Rekha:style=Medium\r\n",
      "/usr/share/fonts/truetype/tlwg/TlwgTypewriter-BoldOblique.ttf: Tlwg Typewriter:style=Bold Oblique\r\n",
      "/usr/share/fonts/opentype/urw-base35/URWBookman-Light.otf: URW Bookman:style=Light\r\n",
      "/usr/share/fonts/truetype/dejavu/DejaVuSansMono.ttf: DejaVu Sans Mono:style=Book\r\n",
      "/usr/share/fonts/truetype/ubuntu/UbuntuMono-RI.ttf: Ubuntu Mono:style=Italic\r\n",
      "/usr/share/fonts/truetype/malayalam/Rachana-Regular.ttf: Rachana:style=Regular\r\n"
     ]
    }
   ],
   "source": [
    "# 전체 글꼴 중 처음 10개만 출력\n",
    "\n",
    "! fc-list | head -10"
   ]
  },
  {
   "cell_type": "code",
   "execution_count": 27,
   "id": "together-petite",
   "metadata": {},
   "outputs": [
    {
     "name": "stdout",
     "output_type": "stream",
     "text": [
      "/usr/share/fonts/truetype/nanum/NanumBrush.ttf: Nanum Brush Script,나눔손글씨 붓:style=Regular\r\n",
      "/usr/share/fonts/truetype/nanum/NanumPen.ttf: Nanum Pen Script,나눔손글씨 펜:style=Regular\r\n"
     ]
    }
   ],
   "source": [
    "# 한글 글꼴만 보려면 ':lang=ko' 옵션을 지정\n",
    "# 한글 글꼴 전체에서 .ttf 만 출력\n",
    "\n",
    "! fc-list :lang=ko | grep 손"
   ]
  },
  {
   "cell_type": "code",
   "execution_count": 30,
   "id": "planned-shape",
   "metadata": {},
   "outputs": [
    {
     "name": "stdout",
     "output_type": "stream",
     "text": [
      "305\n"
     ]
    },
    {
     "data": {
      "text/plain": [
       "['/usr/share/fonts/truetype/tlwg/TlwgTypewriter-BoldOblique.ttf',\n",
       " '/usr/share/fonts/truetype/tlwg/Umpush-LightOblique.ttf',\n",
       " '/usr/share/fonts/truetype/lohit-devanagari/Lohit-Devanagari.ttf',\n",
       " '/usr/share/fonts/opentype/noto/NotoSerifCJK-Medium.ttc',\n",
       " '/usr/share/fonts/opentype/noto/NotoSerifCJK-SemiBold.ttc',\n",
       " '/usr/share/fonts/truetype/ubuntu/Ubuntu-M.ttf',\n",
       " '/usr/share/fonts/truetype/liberation/LiberationSansNarrow-Bold.ttf',\n",
       " '/usr/share/fonts/truetype/ubuntu/Ubuntu-C.ttf',\n",
       " '/usr/share/fonts/opentype/urw-base35/NimbusMonoPS-Regular.otf',\n",
       " '/usr/share/fonts/opentype/urw-base35/P052-BoldItalic.otf',\n",
       " '/usr/share/fonts/truetype/Gubbi/Gubbi.ttf',\n",
       " '/usr/share/fonts/truetype/tlwg/TlwgTypewriter.ttf',\n",
       " '/usr/share/fonts/truetype/malayalam/Suruma.ttf',\n",
       " '/usr/share/fonts/truetype/malayalam/Meera-Regular.ttf',\n",
       " '/usr/share/fonts/opentype/noto/NotoSansCJK-Bold.ttc',\n",
       " '/usr/share/fonts/opentype/urw-base35/Z003-MediumItalic.otf',\n",
       " '/usr/share/fonts/truetype/freefont/FreeSansBoldOblique.ttf',\n",
       " '/usr/share/fonts/opentype/cantarell/Cantarell-Regular.otf',\n",
       " '/usr/share/fonts/truetype/nanum/NanumGothicEcoExtraBold.ttf',\n",
       " '/usr/share/fonts/truetype/fonts-telu-extra/Pothana2000.ttf',\n",
       " '/usr/share/fonts/truetype/freefont/FreeSerifBold.ttf',\n",
       " '/usr/share/fonts/opentype/urw-base35/NimbusSans-Bold.otf',\n",
       " '/usr/share/fonts/truetype/malayalam/Rachana-Regular.ttf',\n",
       " '/usr/share/fonts/truetype/nanum/NanumBarunGothicLight.ttf',\n",
       " '/usr/share/fonts/opentype/cantarell/Cantarell-Thin.otf',\n",
       " '/usr/share/fonts/opentype/urw-base35/NimbusRoman-Italic.otf',\n",
       " '/usr/share/fonts/truetype/tlwg/Norasi-BoldItalic.ttf',\n",
       " '/usr/share/fonts/opentype/urw-base35/NimbusSans-Italic.otf',\n",
       " '/usr/share/fonts/truetype/ubuntu/Ubuntu-LI.ttf',\n",
       " '/usr/share/fonts/truetype/fonts-deva-extra/kalimati.ttf',\n",
       " '/usr/share/fonts/truetype/liberation2/LiberationSans-Regular.ttf',\n",
       " '/usr/share/fonts/truetype/nanum/NanumSquareR.ttf',\n",
       " '/usr/share/fonts/truetype/freefont/FreeMonoBoldOblique.ttf',\n",
       " '/usr/share/fonts/truetype/nanum/NanumSquareRoundEB.ttf',\n",
       " '/usr/share/fonts/truetype/Sahadeva/sahadeva.ttf',\n",
       " '/usr/share/fonts/opentype/urw-base35/NimbusSansNarrow-Regular.otf',\n",
       " '/usr/share/fonts/truetype/tlwg/Norasi-BoldOblique.ttf',\n",
       " '/usr/share/fonts/truetype/fonts-beng-extra/ani.ttf',\n",
       " '/usr/share/fonts/truetype/fonts-beng-extra/JamrulNormal.ttf',\n",
       " '/usr/share/fonts/truetype/fonts-yrsa-rasa/Yrsa-Bold.ttf',\n",
       " '/usr/share/fonts/truetype/kacst/KacstQurn.ttf',\n",
       " '/usr/share/fonts/truetype/dejavu/DejaVuSerif-Bold.ttf',\n",
       " '/usr/share/fonts/opentype/malayalam/Gayathri-Thin.otf',\n",
       " '/usr/share/fonts/truetype/tlwg/Umpush-Oblique.ttf',\n",
       " '/usr/share/fonts/truetype/nanum/NanumSquareRoundL.ttf',\n",
       " '/usr/share/fonts/truetype/padauk/Padauk-Bold.ttf',\n",
       " '/usr/share/fonts/opentype/urw-base35/URWGothic-Book.otf',\n",
       " '/usr/share/fonts/truetype/tlwg/Waree.ttf',\n",
       " '/usr/share/fonts/truetype/fonts-yrsa-rasa/Yrsa-Regular.ttf',\n",
       " '/usr/share/fonts/truetype/fonts-orya-extra/utkal.ttf',\n",
       " '/usr/share/fonts/truetype/tlwg/Purisa-Oblique.ttf',\n",
       " '/usr/share/fonts/truetype/lohit-telugu/Lohit-Telugu.ttf',\n",
       " '/usr/share/fonts/opentype/urw-base35/C059-BdIta.otf',\n",
       " '/usr/share/fonts/truetype/kacst/KacstNaskh.ttf',\n",
       " '/usr/share/fonts/truetype/tlwg/Garuda.ttf',\n",
       " '/usr/share/fonts/truetype/kacst-one/KacstOne-Bold.ttf',\n",
       " '/usr/share/fonts/truetype/tlwg/Purisa-BoldOblique.ttf',\n",
       " '/usr/share/fonts/truetype/noto/NotoColorEmoji.ttf',\n",
       " '/usr/share/fonts/opentype/malayalam/Chilanka-Regular.otf',\n",
       " '/usr/share/fonts/truetype/liberation/LiberationMono-Regular.ttf',\n",
       " '/usr/share/fonts/truetype/liberation/LiberationSans-Bold.ttf',\n",
       " '/usr/share/fonts/opentype/urw-base35/StandardSymbolsPS.otf',\n",
       " '/usr/share/fonts/truetype/tlwg/Umpush-Bold.ttf',\n",
       " '/usr/share/fonts/truetype/nanum/NanumSquareL.ttf',\n",
       " '/usr/share/fonts/truetype/nanum/NanumMyeongjoEco.ttf',\n",
       " '/usr/share/fonts/truetype/fonts-yrsa-rasa/Yrsa-Medium.ttf',\n",
       " '/usr/share/fonts/truetype/nanum/NanumSquareB.ttf',\n",
       " '/usr/share/fonts/truetype/kacst/KacstFarsi.ttf',\n",
       " '/usr/share/fonts/opentype/malayalam/Manjari-Regular.otf',\n",
       " '/usr/share/fonts/truetype/nanum/NanumBarunpenB.ttf',\n",
       " '/usr/share/fonts/opentype/urw-base35/URWGothic-Demi.otf',\n",
       " '/usr/share/fonts/truetype/fonts-yrsa-rasa/Rasa-SemiBold.ttf',\n",
       " '/usr/share/fonts/truetype/liberation2/LiberationSans-BoldItalic.ttf',\n",
       " '/usr/share/fonts/truetype/lohit-gujarati/Lohit-Gujarati.ttf',\n",
       " '/usr/share/fonts/opentype/cantarell/Cantarell-Bold.otf',\n",
       " '/usr/share/fonts/truetype/ubuntu/UbuntuMono-R.ttf',\n",
       " '/usr/share/fonts/truetype/tlwg/Laksaman-Bold.ttf',\n",
       " '/usr/share/fonts/opentype/urw-base35/C059-Bold.otf',\n",
       " '/usr/share/fonts/truetype/tlwg/Umpush-BoldOblique.ttf',\n",
       " '/usr/share/fonts/truetype/fonts-telu-extra/vemana2000.ttf',\n",
       " '/usr/share/fonts/truetype/tlwg/TlwgMono-Bold.ttf',\n",
       " '/usr/share/fonts/truetype/kacst/KacstArt.ttf',\n",
       " '/usr/share/fonts/truetype/nanum/NanumMyeongjoBold.ttf',\n",
       " '/usr/share/fonts/truetype/liberation/LiberationSerif-Bold.ttf',\n",
       " '/usr/share/fonts/truetype/Nanum_Gothic/NanumGothic-Bold.ttf',\n",
       " '/usr/share/fonts/truetype/Sarai/Sarai.ttf',\n",
       " '/usr/share/fonts/opentype/urw-base35/NimbusSansNarrow-Bold.otf',\n",
       " '/usr/share/fonts/truetype/freefont/FreeMonoOblique.ttf',\n",
       " '/usr/share/fonts/opentype/cantarell/Cantarell-ExtraBold.otf',\n",
       " '/usr/share/fonts/truetype/lao/Phetsarath_OT.ttf',\n",
       " '/usr/share/fonts/truetype/nanum/NanumGothicCoding-Bold.ttf',\n",
       " '/usr/share/fonts/truetype/malayalam/AnjaliOldLipi-Regular.ttf',\n",
       " '/usr/share/fonts/truetype/tlwg/TlwgTypist-BoldOblique.ttf',\n",
       " '/usr/share/fonts/truetype/liberation2/LiberationSerif-BoldItalic.ttf',\n",
       " '/usr/share/fonts/truetype/nanum/NanumGothicLight.ttf',\n",
       " '/usr/share/fonts/truetype/liberation2/LiberationSerif-Italic.ttf',\n",
       " '/usr/share/fonts/truetype/tlwg/TlwgTypo-Oblique.ttf',\n",
       " '/usr/share/fonts/truetype/dejavu/DejaVuSansMono.ttf',\n",
       " '/usr/share/fonts/truetype/Nanum_Gothic/NanumGothic-Regular.ttf',\n",
       " '/usr/share/fonts/truetype/tlwg/TlwgMono-Oblique.ttf',\n",
       " '/usr/share/fonts/truetype/pagul/Pagul.ttf',\n",
       " '/usr/share/fonts/truetype/fonts-yrsa-rasa/Yrsa-SemiBold.ttf',\n",
       " '/usr/share/fonts/truetype/liberation/LiberationSans-BoldItalic.ttf',\n",
       " '/usr/share/fonts/truetype/ubuntu/Ubuntu-L.ttf',\n",
       " '/usr/share/fonts/truetype/tlwg/Purisa.ttf',\n",
       " '/usr/share/fonts/truetype/tlwg/Waree-BoldOblique.ttf',\n",
       " '/usr/share/fonts/truetype/tlwg/Sawasdee-BoldOblique.ttf',\n",
       " '/usr/share/fonts/truetype/tlwg/TlwgTypo-BoldOblique.ttf',\n",
       " '/usr/share/fonts/truetype/nanum/NanumBarunGothicUltraLight.ttf',\n",
       " '/usr/share/fonts/truetype/tlwg/Loma-Bold.ttf',\n",
       " '/usr/share/fonts/truetype/ubuntu/Ubuntu-R.ttf',\n",
       " '/usr/share/fonts/truetype/tlwg/Loma-BoldOblique.ttf',\n",
       " '/usr/share/fonts/opentype/cantarell/Cantarell-Light.otf',\n",
       " '/usr/share/fonts/truetype/fonts-gujr-extra/aakar-medium.ttf',\n",
       " '/usr/share/fonts/truetype/liberation2/LiberationMono-Bold.ttf',\n",
       " '/usr/share/fonts/truetype/fonts-gujr-extra/padmaa-Medium-0.5.ttf',\n",
       " '/usr/share/fonts/truetype/nanum/NanumGothicBold.ttf',\n",
       " '/usr/share/fonts/truetype/tlwg/Loma-Oblique.ttf',\n",
       " '/usr/share/fonts/opentype/urw-base35/P052-Roman.otf',\n",
       " '/usr/share/fonts/truetype/tlwg/TlwgMono.ttf',\n",
       " '/usr/share/fonts/truetype/freefont/FreeSerifItalic.ttf',\n",
       " '/usr/share/fonts/truetype/Nanum_Gothic/NanumGothic-ExtraBold.ttf',\n",
       " '/usr/share/fonts/truetype/fonts-beng-extra/MuktiNarrow.ttf',\n",
       " '/usr/share/fonts/truetype/liberation/LiberationSerif-Italic.ttf',\n",
       " '/usr/share/fonts/opentype/urw-base35/P052-Italic.otf',\n",
       " '/usr/share/fonts/opentype/malayalam/Gayathri-Bold.otf',\n",
       " '/usr/share/fonts/truetype/liberation/LiberationSerif-BoldItalic.ttf',\n",
       " '/usr/share/fonts/truetype/tlwg/Norasi-Oblique.ttf',\n",
       " '/usr/share/fonts/opentype/noto/NotoSansCJK-Light.ttc',\n",
       " '/usr/share/fonts/truetype/samyak-fonts/Samyak-Tamil.ttf',\n",
       " '/usr/share/fonts/opentype/urw-base35/URWBookman-LightItalic.otf',\n",
       " '/usr/share/fonts/truetype/samyak/Samyak-Devanagari.ttf',\n",
       " '/usr/share/fonts/truetype/nanum/NanumBarunGothicBold.ttf',\n",
       " '/usr/share/fonts/truetype/kacst/KacstOffice.ttf',\n",
       " '/usr/share/fonts/truetype/kacst/KacstPen.ttf',\n",
       " '/usr/share/fonts/truetype/ttf-khmeros-core/KhmerOS.ttf',\n",
       " '/usr/share/fonts/truetype/nanum/NanumGothicEcoBold.ttf',\n",
       " '/usr/share/fonts/opentype/malayalam/Gayathri-Regular.otf',\n",
       " '/usr/share/fonts/truetype/lohit-malayalam/Lohit-Malayalam.ttf',\n",
       " '/usr/share/fonts/truetype/malayalam/Dyuthi-Regular.ttf',\n",
       " '/usr/share/fonts/truetype/nanum/NanumMyeongjoEcoBold.ttf',\n",
       " '/usr/share/fonts/opentype/urw-base35/URWBookman-Demi.otf',\n",
       " '/usr/share/fonts/truetype/liberation/LiberationMono-Bold.ttf',\n",
       " '/usr/share/fonts/truetype/freefont/FreeSerifBoldItalic.ttf',\n",
       " '/usr/share/fonts/truetype/lohit-oriya/Lohit-Odia.ttf',\n",
       " '/usr/share/fonts/truetype/malayalam/Keraleeyam-Regular.ttf',\n",
       " '/usr/share/fonts/truetype/liberation2/LiberationSerif-Bold.ttf',\n",
       " '/usr/share/fonts/truetype/fonts-yrsa-rasa/Rasa-Bold.ttf',\n",
       " '/usr/share/fonts/truetype/tlwg/Laksaman.ttf',\n",
       " '/usr/share/fonts/truetype/dejavu/DejaVuSerif.ttf',\n",
       " '/usr/share/fonts/truetype/tlwg/Norasi.ttf',\n",
       " '/usr/share/fonts/truetype/fonts-yrsa-rasa/Rasa-Regular.ttf',\n",
       " '/usr/share/fonts/truetype/lohit-tamil-classical/Lohit-Tamil-Classical.ttf',\n",
       " '/usr/share/fonts/opentype/urw-base35/URWBookman-Light.otf',\n",
       " '/usr/share/fonts/truetype/kacst/KacstTitle.ttf',\n",
       " '/usr/share/fonts/truetype/dejavu/DejaVuSans.ttf',\n",
       " '/usr/share/fonts/truetype/tlwg/TlwgTypo-Bold.ttf',\n",
       " '/usr/share/fonts/opentype/urw-base35/NimbusRoman-Bold.otf',\n",
       " '/usr/share/fonts/truetype/ubuntu/UbuntuMono-RI.ttf',\n",
       " '/usr/share/fonts/truetype/nanum/NanumGothicCoding.ttf',\n",
       " '/usr/share/fonts/truetype/tlwg/TlwgTypo.ttf',\n",
       " '/usr/share/fonts/truetype/ubuntu/Ubuntu-B.ttf',\n",
       " '/usr/share/fonts/truetype/ubuntu/UbuntuMono-B.ttf',\n",
       " '/usr/share/fonts/opentype/urw-base35/NimbusMonoPS-BoldItalic.otf',\n",
       " '/usr/share/fonts/opentype/noto/NotoSerifCJK-Light.ttc',\n",
       " '/usr/share/fonts/truetype/tlwg/Kinnari-BoldItalic.ttf',\n",
       " '/usr/share/fonts/truetype/malayalam/Karumbi-Regular.ttf',\n",
       " '/usr/share/fonts/truetype/tlwg/Waree-Bold.ttf',\n",
       " '/usr/share/fonts/truetype/nanum/NanumMyeongjo.ttf',\n",
       " '/usr/share/fonts/truetype/lohit-assamese/Lohit-Assamese.ttf',\n",
       " '/usr/share/fonts/opentype/noto/NotoSansCJK-DemiLight.ttc',\n",
       " '/usr/share/fonts/truetype/tlwg/TlwgTypewriter-Bold.ttf',\n",
       " '/usr/share/fonts/truetype/tlwg/Kinnari-Italic.ttf',\n",
       " '/usr/share/fonts/opentype/urw-base35/NimbusSansNarrow-Oblique.otf',\n",
       " '/usr/share/fonts/opentype/urw-base35/NimbusRoman-Regular.otf',\n",
       " '/usr/share/fonts/truetype/tlwg/Norasi-Italic.ttf',\n",
       " '/usr/share/fonts/truetype/tlwg/Garuda-Oblique.ttf',\n",
       " '/usr/share/fonts/truetype/kacst/KacstDigital.ttf',\n",
       " '/usr/share/fonts/truetype/tlwg/Purisa-Bold.ttf',\n",
       " '/usr/share/fonts/truetype/tlwg/Waree-Oblique.ttf',\n",
       " '/usr/share/fonts/truetype/lohit-punjabi/Lohit-Gurmukhi.ttf',\n",
       " '/usr/share/fonts/truetype/padauk/PadaukBook-Bold.ttf',\n",
       " '/usr/share/fonts/opentype/urw-base35/NimbusMonoPS-Italic.otf',\n",
       " '/usr/share/fonts/truetype/nanum/NanumGothic.ttf',\n",
       " '/usr/share/fonts/truetype/kacst/KacstDecorative.ttf',\n",
       " '/usr/share/fonts/truetype/tlwg/Kinnari-Bold.ttf',\n",
       " '/usr/share/fonts/truetype/Navilu/Navilu.ttf',\n",
       " '/usr/share/fonts/opentype/noto/NotoSansCJK-Regular.ttc',\n",
       " '/usr/share/fonts/truetype/nanum/NanumSquareEB.ttf',\n",
       " '/usr/share/fonts/truetype/tlwg/Laksaman-Italic.ttf',\n",
       " '/usr/share/fonts/truetype/liberation/LiberationSerif-Regular.ttf',\n",
       " '/usr/share/fonts/opentype/noto/NotoSansCJK-Black.ttc',\n",
       " '/usr/share/fonts/opentype/urw-base35/URWBookman-DemiItalic.otf',\n",
       " '/usr/share/fonts/truetype/ubuntu/Ubuntu-MI.ttf',\n",
       " '/usr/share/fonts/truetype/tlwg/Norasi-Bold.ttf',\n",
       " '/usr/share/fonts/truetype/nanum/NanumSquareRoundR.ttf',\n",
       " '/usr/share/fonts/truetype/tlwg/Garuda-BoldOblique.ttf',\n",
       " '/usr/share/fonts/opentype/urw-base35/URWGothic-DemiOblique.otf',\n",
       " '/usr/share/fonts/opentype/urw-base35/NimbusSans-BoldItalic.otf',\n",
       " '/usr/share/fonts/truetype/tlwg/Umpush-Light.ttf',\n",
       " '/usr/share/fonts/truetype/fonts-yrsa-rasa/Rasa-Light.ttf',\n",
       " '/usr/share/fonts/opentype/noto/NotoSerifCJK-Bold.ttc',\n",
       " '/usr/share/fonts/truetype/nanum/NanumBarunpenR.ttf',\n",
       " '/usr/share/fonts/truetype/noto/NotoMono-Regular.ttf',\n",
       " '/usr/share/fonts/truetype/kacst/KacstTitleL.ttf',\n",
       " '/usr/share/fonts/truetype/liberation2/LiberationSans-Italic.ttf',\n",
       " '/usr/share/fonts/truetype/tlwg/Sawasdee-Oblique.ttf',\n",
       " '/usr/share/fonts/truetype/freefont/FreeSansOblique.ttf',\n",
       " '/usr/share/fonts/opentype/noto/NotoSerifCJK-Regular.ttc',\n",
       " '/usr/share/fonts/truetype/lohit-bengali/Lohit-Bengali.ttf',\n",
       " '/usr/share/fonts/truetype/nanum/NanumMyeongjoEcoExtraBold.ttf',\n",
       " '/usr/share/fonts/truetype/lohit-tamil/Lohit-Tamil.ttf',\n",
       " '/usr/share/fonts/truetype/padauk/PadaukBook-Regular.ttf',\n",
       " '/usr/share/fonts/truetype/kacst/KacstBook.ttf',\n",
       " '/usr/share/fonts/truetype/fonts-deva-extra/samanata.ttf',\n",
       " '/usr/share/fonts/truetype/tlwg/Umpush.ttf',\n",
       " '/usr/share/fonts/truetype/malayalam/Rachana-Bold.ttf',\n",
       " '/usr/share/fonts/truetype/Nakula/nakula.ttf',\n",
       " '/usr/share/fonts/truetype/fonts-guru-extra/Saab.ttf',\n",
       " '/usr/share/fonts/truetype/liberation2/LiberationMono-Regular.ttf',\n",
       " '/usr/share/fonts/truetype/dejavu/DejaVuSans-Bold.ttf',\n",
       " '/usr/share/fonts/truetype/liberation/LiberationMono-BoldItalic.ttf',\n",
       " '/usr/share/fonts/truetype/freefont/FreeSans.ttf',\n",
       " '/usr/share/fonts/truetype/freefont/FreeMonoBold.ttf',\n",
       " '/usr/share/fonts/truetype/kacst-one/KacstOne.ttf',\n",
       " '/usr/share/fonts/truetype/kacst/KacstPoster.ttf',\n",
       " '/usr/share/fonts/truetype/tlwg/Sawasdee.ttf',\n",
       " '/usr/share/fonts/truetype/fonts-gujr-extra/Rekha.ttf',\n",
       " '/usr/share/fonts/truetype/malayalam/RaghuMalayalamSans-Regular.ttf',\n",
       " '/usr/share/fonts/truetype/freefont/FreeSansBold.ttf',\n",
       " '/usr/share/fonts/truetype/fonts-gujr-extra/padmaa-Bold.1.1.ttf',\n",
       " '/usr/share/fonts/truetype/fonts-beng-extra/mitra.ttf',\n",
       " '/usr/share/fonts/truetype/tlwg/Kinnari-Oblique.ttf',\n",
       " '/usr/share/fonts/truetype/dejavu/DejaVuSansMono-Bold.ttf',\n",
       " '/usr/share/fonts/truetype/ubuntu/Ubuntu-Th.ttf',\n",
       " '/usr/share/fonts/truetype/fonts-deva-extra/chandas1-2.ttf',\n",
       " '/usr/share/fonts/truetype/freefont/FreeSerif.ttf',\n",
       " '/usr/share/fonts/truetype/tibetan-machine/TibetanMachineUni.ttf',\n",
       " '/usr/share/fonts/truetype/abyssinica/AbyssinicaSIL-Regular.ttf',\n",
       " '/usr/share/fonts/truetype/nanum/NanumBarunGothic.ttf',\n",
       " '/usr/share/fonts/truetype/droid/DroidSansFallbackFull.ttf',\n",
       " '/usr/share/fonts/opentype/noto/NotoSansCJK-Thin.ttc',\n",
       " '/usr/share/fonts/opentype/noto/NotoSerifCJK-ExtraLight.ttc',\n",
       " '/usr/share/fonts/truetype/fonts-beng-extra/MuktiNarrowBold.ttf',\n",
       " '/usr/share/fonts/opentype/urw-base35/C059-Roman.otf',\n",
       " '/usr/share/fonts/truetype/liberation2/LiberationSerif-Regular.ttf',\n",
       " '/usr/share/fonts/truetype/ttf-khmeros-core/KhmerOSsys.ttf',\n",
       " '/usr/share/fonts/truetype/malayalam/Uroob-Regular.ttf',\n",
       " '/usr/share/fonts/opentype/malayalam/Manjari-Bold.otf',\n",
       " '/usr/share/fonts/truetype/nanum/NanumPen.ttf',\n",
       " '/usr/share/fonts/truetype/tlwg/Sawasdee-Bold.ttf',\n",
       " '/usr/share/fonts/truetype/tlwg/Laksaman-BoldItalic.ttf',\n",
       " '/usr/share/fonts/opentype/urw-base35/P052-Bold.otf',\n",
       " '/usr/share/fonts/truetype/kacst/mry_KacstQurn.ttf',\n",
       " '/usr/share/fonts/truetype/liberation/LiberationSansNarrow-Regular.ttf',\n",
       " '/usr/share/fonts/truetype/tlwg/Kinnari.ttf',\n",
       " '/usr/share/fonts/truetype/kacst/KacstLetter.ttf',\n",
       " '/usr/share/fonts/opentype/urw-base35/D050000L.otf',\n",
       " '/usr/share/fonts/truetype/kacst/KacstScreen.ttf',\n",
       " '/usr/share/fonts/opentype/urw-base35/NimbusSansNarrow-BoldOblique.otf',\n",
       " '/usr/share/fonts/truetype/liberation2/LiberationMono-BoldItalic.ttf',\n",
       " '/usr/share/fonts/truetype/freefont/FreeMono.ttf',\n",
       " '/usr/share/fonts/truetype/Gargi/Gargi.ttf',\n",
       " '/usr/share/fonts/truetype/nanum/NanumGothicExtraBold.ttf',\n",
       " '/usr/share/fonts/truetype/tlwg/Kinnari-BoldOblique.ttf',\n",
       " '/usr/share/fonts/truetype/liberation/LiberationSansNarrow-Italic.ttf',\n",
       " '/usr/share/fonts/truetype/nanum/NanumGothicEco.ttf',\n",
       " '/usr/share/fonts/truetype/liberation/LiberationSansNarrow-BoldItalic.ttf',\n",
       " '/usr/share/fonts/truetype/ubuntu/UbuntuMono-BI.ttf',\n",
       " '/usr/share/fonts/opentype/urw-base35/NimbusRoman-BoldItalic.otf',\n",
       " '/usr/share/fonts/truetype/fonts-beng-extra/LikhanNormal.ttf',\n",
       " '/usr/share/fonts/truetype/fonts-kalapi/Kalapi.ttf',\n",
       " '/usr/share/fonts/opentype/urw-base35/URWGothic-BookOblique.otf',\n",
       " '/usr/share/fonts/truetype/tlwg/TlwgTypist.ttf',\n",
       " '/usr/share/fonts/truetype/fonts-gujr-extra/padmaa.ttf',\n",
       " '/usr/share/fonts/truetype/openoffice/opens___.ttf',\n",
       " '/usr/share/fonts/truetype/nanum/NanumMyeongjoExtraBold.ttf',\n",
       " '/usr/share/fonts/truetype/liberation/LiberationSans-Regular.ttf',\n",
       " '/usr/share/fonts/truetype/samyak-fonts/Samyak-Gujarati.ttf',\n",
       " '/usr/share/fonts/truetype/tlwg/TlwgTypist-Bold.ttf',\n",
       " '/usr/share/fonts/opentype/noto/NotoSansCJK-Medium.ttc',\n",
       " '/usr/share/fonts/truetype/tlwg/Loma.ttf',\n",
       " '/usr/share/fonts/opentype/urw-base35/C059-Italic.otf',\n",
       " '/usr/share/fonts/truetype/sinhala/lklug.ttf',\n",
       " '/usr/share/fonts/truetype/liberation2/LiberationMono-Italic.ttf',\n",
       " '/usr/share/fonts/truetype/ubuntu/Ubuntu-BI.ttf',\n",
       " '/usr/share/fonts/truetype/ubuntu/Ubuntu-RI.ttf',\n",
       " '/usr/share/fonts/truetype/tlwg/TlwgTypewriter-Oblique.ttf',\n",
       " '/usr/share/fonts/truetype/nanum/NanumSquareRoundB.ttf',\n",
       " '/usr/share/fonts/opentype/noto/NotoSerifCJK-Black.ttc',\n",
       " '/usr/share/fonts/truetype/lohit-kannada/Lohit-Kannada.ttf',\n",
       " '/usr/share/fonts/truetype/tlwg/TlwgMono-BoldOblique.ttf',\n",
       " '/usr/share/fonts/truetype/liberation2/LiberationSans-Bold.ttf',\n",
       " '/usr/share/fonts/truetype/liberation/LiberationMono-Italic.ttf',\n",
       " '/usr/share/fonts/opentype/urw-base35/NimbusMonoPS-Bold.otf',\n",
       " '/usr/share/fonts/truetype/tlwg/TlwgTypist-Oblique.ttf',\n",
       " '/usr/share/fonts/truetype/padauk/Padauk-Regular.ttf',\n",
       " '/usr/share/fonts/opentype/urw-base35/NimbusSans-Regular.otf',\n",
       " '/usr/share/fonts/truetype/tlwg/Garuda-Bold.ttf',\n",
       " '/usr/share/fonts/truetype/samyak-fonts/Samyak-Malayalam.ttf',\n",
       " '/usr/share/fonts/opentype/malayalam/Manjari-Thin.otf',\n",
       " '/usr/share/fonts/truetype/nanum/NanumBrush.ttf',\n",
       " '/usr/share/fonts/truetype/fonts-yrsa-rasa/Yrsa-Light.ttf',\n",
       " '/usr/share/fonts/truetype/fonts-yrsa-rasa/Rasa-Medium.ttf',\n",
       " '/usr/share/fonts/truetype/liberation/LiberationSans-Italic.ttf']"
      ]
     },
     "execution_count": 30,
     "metadata": {},
     "output_type": "execute_result"
    }
   ],
   "source": [
    "# 사용가능한 시스템의 TTF 폰트 목록\n",
    "import matplotlib.font_manager as font_manager\n",
    "\n",
    "font_list = font_manager.findSystemFonts(fontpaths=None, fontext='ttf')\n",
    "print(len(font_list))\n",
    "font_list"
   ]
  },
  {
   "cell_type": "code",
   "execution_count": 31,
   "id": "rocky-plastic",
   "metadata": {},
   "outputs": [
    {
     "data": {
      "text/plain": [
       "'/home/mspark/.local/lib/python3.8/site-packages/matplotlib/mpl-data/matplotlibrc'"
      ]
     },
     "execution_count": 31,
     "metadata": {},
     "output_type": "execute_result"
    }
   ],
   "source": [
    "# matplotlib 설정 파일의 위치\n",
    "\n",
    "matplotlib.matplotlib_fname()"
   ]
  },
  {
   "cell_type": "code",
   "execution_count": 32,
   "id": "baking-looking",
   "metadata": {},
   "outputs": [
    {
     "data": {
      "text/plain": [
       "'/home/mspark/.cache/matplotlib'"
      ]
     },
     "execution_count": 32,
     "metadata": {},
     "output_type": "execute_result"
    }
   ],
   "source": [
    "# 캐쉬 디렉토리\n",
    "\n",
    "matplotlib.get_cachedir()"
   ]
  }
 ],
 "metadata": {
  "kernelspec": {
   "display_name": "Python 3",
   "language": "python",
   "name": "python3"
  },
  "language_info": {
   "codemirror_mode": {
    "name": "ipython",
    "version": 3
   },
   "file_extension": ".py",
   "mimetype": "text/x-python",
   "name": "python",
   "nbconvert_exporter": "python",
   "pygments_lexer": "ipython3",
   "version": "3.8.5"
  }
 },
 "nbformat": 4,
 "nbformat_minor": 5
}
