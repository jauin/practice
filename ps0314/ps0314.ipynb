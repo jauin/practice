{
 "cells": [
  {
   "cell_type": "markdown",
   "id": "tender-attempt",
   "metadata": {},
   "source": [
    "### 파이썬을 활용한 DART 재무제표 데이타 수집과 분석"
   ]
  },
  {
   "cell_type": "code",
   "execution_count": null,
   "id": "official-monitor",
   "metadata": {},
   "outputs": [],
   "source": []
  },
  {
   "cell_type": "code",
   "execution_count": 1,
   "id": "french-underwear",
   "metadata": {},
   "outputs": [],
   "source": [
    "# DART api key\n",
    "key = '0630cf172b2c5d2fa8b387e94d33c5e4b16374d2'"
   ]
  },
  {
   "cell_type": "code",
   "execution_count": null,
   "id": "persistent-cartridge",
   "metadata": {},
   "outputs": [],
   "source": [
    "http://dart.fss.or.kr/pdf/download/excel.do?rcp_no=20210309000744&dcm_no=7861003&lang=ko"
   ]
  }
 ],
 "metadata": {
  "kernelspec": {
   "display_name": "Python 3",
   "language": "python",
   "name": "python3"
  },
  "language_info": {
   "codemirror_mode": {
    "name": "ipython",
    "version": 3
   },
   "file_extension": ".py",
   "mimetype": "text/x-python",
   "name": "python",
   "nbconvert_exporter": "python",
   "pygments_lexer": "ipython3",
   "version": "3.8.8"
  }
 },
 "nbformat": 4,
 "nbformat_minor": 5
}
