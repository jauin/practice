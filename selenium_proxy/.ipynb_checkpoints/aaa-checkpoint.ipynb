{
 "cells": [
  {
   "cell_type": "markdown",
   "id": "governing-grade",
   "metadata": {},
   "source": [
    "##### 파이썬 Selenium 프록시(Proxy) 설정하기\n",
    "\n",
    "https://hogni.tistory.com/114\n",
    "\n"
   ]
  },
  {
   "cell_type": "markdown",
   "id": "martial-peninsula",
   "metadata": {},
   "source": [
    "- 프록시 설정\n",
    "\n",
    "```python\n",
    "from selenium import webdriver\n",
    "\n",
    "PROXY = \"IP:Port\"\n",
    "\n",
    "webdriver.DesiredCapabilities.CHROME['proxy'] = {\n",
    "    \"httpProxy\": PROXY,\n",
    "    \"ftpProxy\": PROXY,\n",
    "    \"sslProxy\": PROXY,\n",
    "    \"proxyType\": \"MANUAL\"\n",
    "}\n",
    "\n",
    "driver = webdriver.Chrome()\n",
    "driver.get(\"URL\")\n",
    "```"
   ]
  },
  {
   "cell_type": "markdown",
   "id": "perceived-champion",
   "metadata": {},
   "source": [
    "- 무료 프록시 찾기\n",
    "\n",
    "   구글 검색 : free proxy lists\n",
    "   \n",
    "- http://www.freeproxylists.net/\n",
    "- https://www.proxynova.com/proxy-server-list/elite-proxies/"
   ]
  },
  {
   "cell_type": "code",
   "execution_count": 13,
   "id": "german-handbook",
   "metadata": {},
   "outputs": [
    {
     "name": "stdout",
     "output_type": "stream",
     "text": [
      "chromedriver  proxy_for_selenium.ipynb\r\n"
     ]
    }
   ],
   "source": [
    "!ls"
   ]
  },
  {
   "cell_type": "code",
   "execution_count": 26,
   "id": "close-combat",
   "metadata": {},
   "outputs": [
    {
     "name": "stdout",
     "output_type": "stream",
     "text": [
      "대한민국\n"
     ]
    }
   ],
   "source": [
    "# Proxy 접속 예제\n",
    "\n",
    "from selenium import webdriver\n",
    "\n",
    "# PROXY = '109.111.192.74:8080' # IP:PORT # 영국\n",
    "# PROXY = '176.9.85.13:3128' # IP:PORT # 독일\n",
    "# PROXY = '112.169.9.162:80' # IP:PORT # 한국\n",
    "PROXY = '157.230.103.189:38627' # IP:PORT # 한국\n",
    "\n",
    "\n",
    "\n",
    "webdriver.DesiredCapabilities.CHROME['proxy'] = {\n",
    "    \"httpProxy\":PROXY,\n",
    "#     \"ftpProxy\":PROXY,\n",
    "#     \"sslProxy\":PROXY,\n",
    "    \"proxyType\":\"MANUAL\"\n",
    "}\n",
    "\n",
    "driver = webdriver.Chrome(executable_path='./chromedriver')\n",
    "driver.get(\"https://www.google.com\")\n",
    "\n",
    "import time\n",
    "time.sleep(3)\n",
    "\n",
    "# 접속 나라 프린트\n",
    "print(driver.find_element_by_xpath('/html/body/div[1]/div[5]/div[1]').text)\n"
   ]
  },
  {
   "cell_type": "code",
   "execution_count": null,
   "id": "human-asset",
   "metadata": {},
   "outputs": [],
   "source": []
  }
 ],
 "metadata": {
  "kernelspec": {
   "display_name": "Python 3",
   "language": "python",
   "name": "python3"
  },
  "language_info": {
   "codemirror_mode": {
    "name": "ipython",
    "version": 3
   },
   "file_extension": ".py",
   "mimetype": "text/x-python",
   "name": "python",
   "nbconvert_exporter": "python",
   "pygments_lexer": "ipython3",
   "version": "3.8.5"
  }
 },
 "nbformat": 4,
 "nbformat_minor": 5
}
