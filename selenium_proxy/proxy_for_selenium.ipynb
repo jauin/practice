{
 "cells": [
  {
   "cell_type": "markdown",
   "id": "posted-french",
   "metadata": {},
   "source": [
    "##### 파이썬 Selenium 프록시(Proxy) 설정하기\n",
    "\n",
    "https://hogni.tistory.com/114\n",
    "\n"
   ]
  },
  {
   "cell_type": "markdown",
   "id": "vanilla-buddy",
   "metadata": {},
   "source": [
    "- 프록시 설정\n",
    "\n",
    "```python\n",
    "from selenium import webdriver\n",
    "\n",
    "PROXY = \"IP:Port\"\n",
    "\n",
    "webdriver.DesiredCapabilities.CHROME['proxy'] = {\n",
    "    \"httpProxy\": PROXY,\n",
    "    \"ftpProxy\": PROXY,\n",
    "    \"sslProxy\": PROXY,\n",
    "    \"proxyType\": \"MANUAL\"\n",
    "}\n",
    "\n",
    "driver = webdriver.Chrome()\n",
    "driver.get(\"URL\")\n",
    "```"
   ]
  },
  {
   "cell_type": "markdown",
   "id": "textile-vector",
   "metadata": {},
   "source": [
    "- 무료 프록시 찾기\n",
    "\n",
    "   구글 검색 : free proxy lists\n",
    "   \n",
    "- http://www.freeproxylists.net/\n",
    "- https://www.proxynova.com/proxy-server-list/elite-proxies/"
   ]
  },
  {
   "cell_type": "code",
   "execution_count": 2,
   "id": "romantic-spice",
   "metadata": {},
   "outputs": [
    {
     "name": "stdout",
     "output_type": "stream",
     "text": [
      "aaa.ipynb  chromedriver  proxy_for_selenium.ipynb\r\n"
     ]
    }
   ],
   "source": [
    "!ls"
   ]
  },
  {
   "cell_type": "code",
   "execution_count": 9,
   "id": "authentic-stake",
   "metadata": {},
   "outputs": [],
   "source": [
    "# Proxy 접속 예제\n",
    "\n",
    "from selenium import webdriver\n",
    "\n",
    "# PROXY = '109.111.192.74:8080' # IP:PORT # 영국\n",
    "# PROXY = '176.9.85.13:3128' # IP:PORT # 독일\n",
    "PROXY = '112.169.9.162:80' # IP:PORT # 한국\n",
    "# PROXY = '157.230.103.189:38627' # IP:PORT # 한국\n",
    "\n",
    "webdriver.DesiredCapabilities.CHROME['proxy'] = {\n",
    "    \"httpProxy\":PROXY,\n",
    "    \"ftpProxy\":PROXY,\n",
    "    \"sslProxy\":PROXY,\n",
    "    \"proxyType\":\"MANUAL\"\n",
    "}"
   ]
  },
  {
   "cell_type": "code",
   "execution_count": 10,
   "id": "experimental-individual",
   "metadata": {},
   "outputs": [],
   "source": [
    "driver = webdriver.Chrome('./chromedriver')"
   ]
  },
  {
   "cell_type": "code",
   "execution_count": 11,
   "id": "specified-feelings",
   "metadata": {},
   "outputs": [],
   "source": [
    "# driver.get(\"https://www.google.com\")\n",
    "driver.get(\"https://www.myip.com/\")"
   ]
  },
  {
   "cell_type": "code",
   "execution_count": null,
   "id": "controversial-passing",
   "metadata": {},
   "outputs": [],
   "source": [
    "driver.implicitly_wait(3)\n",
    "# import time\n",
    "# time.sleep(3)\n",
    "\n",
    "# 접속 나라 프린트 - 구글 접속시에\n",
    "# print(driver.find_element_by_xpath('/html/body/div[1]/div[5]/div[1]').text)\n",
    "\n",
    "# myip.com 접속시에\n",
    "print(driver.find_element_by_xpath('/html/body/div[1]/div[2]/div[2]/div[1]/div/div/ul/li[1]/div[2]/span').text)\n",
    "print(driver.find_element_by_xpath('/html/body/div[1]/div[2]/div[2]/div[2]/div/div/div[1]/div[2]').text)\n"
   ]
  },
  {
   "cell_type": "code",
   "execution_count": 1,
   "id": "affiliated-gospel",
   "metadata": {},
   "outputs": [
    {
     "ename": "AttributeError",
     "evalue": "'NoneType' object has no attribute 'text'",
     "output_type": "error",
     "traceback": [
      "\u001b[0;31m---------------------------------------------------------------------------\u001b[0m",
      "\u001b[0;31mAttributeError\u001b[0m                            Traceback (most recent call last)",
      "\u001b[0;32m<ipython-input-1-5b2147d13cf3>\u001b[0m in \u001b[0;36m<module>\u001b[0;34m\u001b[0m\n\u001b[1;32m     27\u001b[0m \u001b[0;34m\u001b[0m\u001b[0m\n\u001b[1;32m     28\u001b[0m \u001b[0;31m# myip.com 접속시에\u001b[0m\u001b[0;34m\u001b[0m\u001b[0;34m\u001b[0m\u001b[0;34m\u001b[0m\u001b[0m\n\u001b[0;32m---> 29\u001b[0;31m \u001b[0mprint\u001b[0m\u001b[0;34m(\u001b[0m\u001b[0mdriver\u001b[0m\u001b[0;34m.\u001b[0m\u001b[0mfind_element_by_xpath\u001b[0m\u001b[0;34m(\u001b[0m\u001b[0;34m'/html/body/div[1]/div[2]/div[2]/div[1]/div/div/ul/li[1]/div[2]/span'\u001b[0m\u001b[0;34m)\u001b[0m\u001b[0;34m.\u001b[0m\u001b[0mtext\u001b[0m\u001b[0;34m)\u001b[0m\u001b[0;34m\u001b[0m\u001b[0;34m\u001b[0m\u001b[0m\n\u001b[0m\u001b[1;32m     30\u001b[0m \u001b[0mprint\u001b[0m\u001b[0;34m(\u001b[0m\u001b[0mdriver\u001b[0m\u001b[0;34m.\u001b[0m\u001b[0mfind_element_by_xpath\u001b[0m\u001b[0;34m(\u001b[0m\u001b[0;34m'/html/body/div[1]/div[2]/div[2]/div[2]/div/div/div[1]/div[2]'\u001b[0m\u001b[0;34m)\u001b[0m\u001b[0;34m.\u001b[0m\u001b[0mtext\u001b[0m\u001b[0;34m)\u001b[0m\u001b[0;34m\u001b[0m\u001b[0;34m\u001b[0m\u001b[0m\n\u001b[1;32m     31\u001b[0m \u001b[0;34m\u001b[0m\u001b[0m\n",
      "\u001b[0;31mAttributeError\u001b[0m: 'NoneType' object has no attribute 'text'"
     ]
    }
   ],
   "source": [
    "# 드라이버 닫기\n",
    "driver.close()"
   ]
  }
 ],
 "metadata": {
  "kernelspec": {
   "display_name": "Python 3",
   "language": "python",
   "name": "python3"
  },
  "language_info": {
   "codemirror_mode": {
    "name": "ipython",
    "version": 3
   },
   "file_extension": ".py",
   "mimetype": "text/x-python",
   "name": "python",
   "nbconvert_exporter": "python",
   "pygments_lexer": "ipython3",
   "version": "3.8.5"
  }
 },
 "nbformat": 4,
 "nbformat_minor": 5
}
