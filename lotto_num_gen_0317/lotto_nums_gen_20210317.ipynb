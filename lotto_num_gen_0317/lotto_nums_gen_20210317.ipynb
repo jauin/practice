{
 "cells": [
  {
   "cell_type": "code",
   "execution_count": 1,
   "metadata": {},
   "outputs": [],
   "source": [
    "import random\n",
    "import pandas as pd\n",
    "import requests\n",
    "from bs4 import BeautifulSoup as bs\n",
    "from tqdm import tqdm\n",
    "import time"
   ]
  },
  {
   "cell_type": "code",
   "execution_count": 2,
   "metadata": {},
   "outputs": [],
   "source": [
    "def get_lotto_numbers(episode):\n",
    "    if episode == 0:\n",
    "        url = 'https://dhlottery.co.kr/gameResult.do?method=byWin'\n",
    "        resp = requests.get(url)\n",
    "    else:\n",
    "        url = 'https://dhlottery.co.kr/gameResult.do?method=byWin'\n",
    "        params = {\n",
    "            'drwNo': episode\n",
    "        }\n",
    "        resp = requests.post(url, params=params)\n",
    "    \n",
    "    soup = bs(resp.content, 'html.parser')\n",
    "    winNum = soup.select('.num.win > p > span')\n",
    "    bonusNum = soup.select('.num.bonus > p > span')\n",
    "    \n",
    "    num_arr=[]\n",
    "    for num in range(0, len(winNum)):\n",
    "        num_arr.append(int(winNum[num].get_text()))\n",
    "    return num_arr"
   ]
  },
  {
   "cell_type": "code",
   "execution_count": 3,
   "metadata": {},
   "outputs": [
    {
     "data": {
      "text/plain": [
       "955"
      ]
     },
     "execution_count": 3,
     "metadata": {},
     "output_type": "execute_result"
    }
   ],
   "source": [
    "# 마지막 로또 회차 구하기\n",
    "url = 'https://dhlottery.co.kr/gameResult.do?method=byWin'\n",
    "resp = requests.get(url)\n",
    "soup = bs(resp.content, \"html.parser\")\n",
    "last_lotto = soup.select('.win_result>h4>strong')\n",
    "\n",
    "last_lotto = last_lotto[0].get_text()[:-1]\n",
    "\n",
    "last_lotto = int(last_lotto)\n",
    "last_lotto"
   ]
  },
  {
   "cell_type": "code",
   "execution_count": 4,
   "metadata": {},
   "outputs": [],
   "source": [
    "# 과거 당첨번호 \n",
    "old_lotto_numbers = []"
   ]
  },
  {
   "cell_type": "code",
   "execution_count": 5,
   "metadata": {},
   "outputs": [],
   "source": [
    "# 저장된 과거 로토 당첨번호 가져오기\n",
    "try:    \n",
    "    df = pd.read_csv('./old_win_numbers.csv')\n",
    "    # 저장된 로토 회차 번호\n",
    "    last_last_lotto = len(df)\n",
    "    \n",
    "    old_lotto_numbers = df.values.tolist()\n",
    "except OSError:\n",
    "    pass"
   ]
  },
  {
   "cell_type": "code",
   "execution_count": 6,
   "metadata": {},
   "outputs": [
    {
     "name": "stderr",
     "output_type": "stream",
     "text": [
      "0it [00:00, ?it/s]\n"
     ]
    }
   ],
   "source": [
    "# 과거 당첨번호 가져오기 \n",
    "for i in tqdm(range(last_last_lotto+1, last_lotto+1)):\n",
    "    #time.sleep(0.3)\n",
    "    old_lotto_numbers.append(get_lotto_numbers(i))"
   ]
  },
  {
   "cell_type": "code",
   "execution_count": 7,
   "metadata": {},
   "outputs": [],
   "source": [
    "# 과거 로또 당첨번호 저장\n",
    "df = pd.DataFrame(old_lotto_numbers)\n",
    "df.to_csv('./old_win_numbers.csv', index=False)\n",
    "\n",
    "# len(df)"
   ]
  },
  {
   "cell_type": "code",
   "execution_count": 8,
   "metadata": {},
   "outputs": [],
   "source": [
    "# 생성할 로토번호\n",
    "my_lotto_numbers = []\n",
    "\n",
    "# 로또번호 5세트 생성\n",
    "while len(my_lotto_numbers) < 5:\n",
    "    list_of_numbers = list(range(1,46))\n",
    "\n",
    "    shuffle_num = random.randrange(5, 55)\n",
    "    for i in range(1, shuffle_num):\n",
    "        random.shuffle(list_of_numbers)\n",
    "\n",
    "    numbers = list_of_numbers[0:6]\n",
    "#     print(numbers)\n",
    "\n",
    "    # 과거 당첨번호와 이전 루프에서 생성한 로토번호 와 중복되지않게\n",
    "    if numbers not in old_lotto_numbers or my_lotto_numbers:\n",
    "        my_lotto_numbers.append(numbers)\n",
    "        # print(\"chk : \" + str(numbers))\n",
    "        \n",
    "# print(my_lotto_numbers)"
   ]
  },
  {
   "cell_type": "code",
   "execution_count": 9,
   "metadata": {},
   "outputs": [],
   "source": [
    "# 생성한 로또번호 5개\n",
    "# 파일에 저장할 경우\n",
    "\n",
    "# f=open('numbers.txt','w')\n",
    "# for num in my_lotto_numbers:\n",
    "#     f.write(str(sorted(num)) + \"\\n\")\n",
    "# f.close()"
   ]
  },
  {
   "cell_type": "code",
   "execution_count": 10,
   "metadata": {},
   "outputs": [
    {
     "name": "stdout",
     "output_type": "stream",
     "text": [
      "[6, 13, 15, 18, 35, 41]\n",
      "[2, 11, 16, 18, 36, 42]\n",
      "[7, 14, 19, 23, 26, 32]\n",
      "[7, 10, 23, 31, 35, 44]\n",
      "[8, 9, 14, 16, 17, 21]\n"
     ]
    }
   ],
   "source": [
    "# 생성한 로또번호 5개\n",
    "for num in my_lotto_numbers:\n",
    "    print(str(sorted(num)))   "
   ]
  }
 ],
 "metadata": {
  "kernelspec": {
   "display_name": "Python 3",
   "language": "python",
   "name": "python3"
  },
  "language_info": {
   "codemirror_mode": {
    "name": "ipython",
    "version": 3
   },
   "file_extension": ".py",
   "mimetype": "text/x-python",
   "name": "python",
   "nbconvert_exporter": "python",
   "pygments_lexer": "ipython3",
   "version": "3.8.5"
  }
 },
 "nbformat": 4,
 "nbformat_minor": 4
}
